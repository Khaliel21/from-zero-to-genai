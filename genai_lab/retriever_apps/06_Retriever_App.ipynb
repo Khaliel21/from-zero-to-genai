{
 "cells": [
  {
   "cell_type": "code",
   "execution_count": 1,
   "metadata": {},
   "outputs": [
    {
     "name": "stdout",
     "output_type": "stream",
     "text": [
      "HEllo\n"
     ]
    }
   ],
   "source": [
    "print(\"HEllo\")"
   ]
  },
  {
   "cell_type": "markdown",
   "metadata": {},
   "source": [
    "# 📚 How to Build a Simple Retriever LLM App with LangChain\n",
    "\n",
    "This section demonstrates how to build a **basic Retriever LLM application** that works over a text-based data source.\n",
    "\n",
    "### 🔍 Key Features:\n",
    "- A **very simple Retriever LLM App** that processes text documents.\n",
    "- Retriever apps can **answer questions about specific documents** by retrieving relevant information from them.\n"
   ]
  },
  {
   "cell_type": "code",
   "execution_count": 2,
   "metadata": {},
   "outputs": [],
   "source": [
    "import os\n",
    "\n",
    "from langchain_core.prompts import ChatPromptTemplate\n",
    "from langchain_core.output_parsers import StrOutputParser\n",
    "\n",
    "\n",
    "from dotenv import load_dotenv, find_dotenv"
   ]
  },
  {
   "cell_type": "code",
   "execution_count": 3,
   "metadata": {},
   "outputs": [],
   "source": [
    "_ = load_dotenv(find_dotenv())\n",
    "groq_api_key = os.environ['GROQ_API_KEY']\n",
    "hf_token_api = os.environ['HF_TOKEN']\n",
    "pinecone_api_key = os.environ['PINECONE_API_KEY']"
   ]
  },
  {
   "cell_type": "markdown",
   "metadata": {},
   "source": [
    "## 📄 Documents in LangChain\n",
    "\n",
    "In LangChain, a **Document** object is used to store both the **text content** and its associated **metadata**.\n",
    "\n",
    "### 🧬 Document Attributes:\n",
    "Each `Document` has the following two attributes:\n",
    "\n",
    "- **`page_content`**: Contains the main text of the document.\n",
    "- **`metadata`**: Stores additional information about the document (e.g. source, page number, etc.).\n"
   ]
  },
  {
   "cell_type": "code",
   "execution_count": 9,
   "metadata": {},
   "outputs": [],
   "source": [
    "from langchain_core.documents import Document\n",
    "\n",
    "documents = [\n",
    "    Document(\n",
    "        page_content=\"John F. Kennedy served as the 35th president of the United States from 1961 until his assassination in 1963.\",\n",
    "        metadata={\"source\": \"us-presidents-doc\"},\n",
    "    ),\n",
    "    Document(\n",
    "        page_content=\"Robert F. Kennedy was a key political figure and served as the U.S. Attorney General during his brother's presidency.\",\n",
    "        metadata={\"source\": \"us-politics-doc\"},\n",
    "    ),\n",
    "    Document(\n",
    "        page_content=\"The Kennedy family is known for their significant influence in American politics and public service.\",\n",
    "        metadata={\"source\": \"kennedy-family-doc\"},\n",
    "    ),\n",
    "    Document(\n",
    "        page_content=\"Abraham Lincoln led the United States through the Civil War and issued the Emancipation Proclamation in 1863.\",\n",
    "        metadata={\"source\": \"civil-war-doc\"},\n",
    "    ),\n",
    "    Document(\n",
    "        page_content=\"Franklin D. Roosevelt served four terms as U.S. president and implemented the New Deal to combat the Great Depression.\",\n",
    "        metadata={\"source\": \"great-depression-doc\"},\n",
    "    ),\n",
    "    Document(\n",
    "        page_content=\"Martin Luther King Jr. was a prominent leader of the civil rights movement and delivered the famous 'I Have a Dream' speech.\",\n",
    "        metadata={\"source\": \"civil-rights-doc\"},\n",
    "    ),\n",
    "    Document(\n",
    "        page_content=\"The Watergate scandal led to the resignation of President Richard Nixon in 1974.\",\n",
    "        metadata={\"source\": \"us-scandals-doc\"},\n",
    "    ),\n",
    "    Document(\n",
    "        page_content=\"The moon landing in 1969 was a major milestone in the space race, with Neil Armstrong becoming the first man on the moon.\",\n",
    "        metadata={\"source\": \"space-exploration-doc\"},\n",
    "    ),\n",
    "    Document(\n",
    "        page_content=\"Barack Obama made history by becoming the first African American president of the United States in 2008.\",\n",
    "        metadata={\"source\": \"modern-presidents-doc\"},\n",
    "    ),\n",
    "    Document(\n",
    "        page_content=\"The U.S. Constitution, written in 1787, outlines the framework of the federal government and guarantees fundamental rights.\",\n",
    "        metadata={\"source\": \"us-constitution-doc\"},\n",
    "    ),\n",
    "]\n"
   ]
  },
  {
   "cell_type": "markdown",
   "metadata": {},
   "source": [
    "# 🧠 Vector Stores vs. Retrievers\n",
    "\n",
    "Let’s clarify the difference between **vector stores** and **retrievers** in a simple and practical way.\n",
    "\n",
    "---\n",
    "\n",
    "## 📦 Vector Stores\n",
    "\n",
    "Think of a vector store as a **specialized storage system** where information is stored in a very specific format (vectors).\n",
    "\n",
    "### 🔹 What They Do:\n",
    "- **Storing Vectors**: A vector store saves information as vectors — numerical representations of text — making it easier for machines to compare and understand.\n",
    "- **Purpose**: Its main goal is to **efficiently store and retrieve** vectorized data. When comparing pieces of information, the vector store performs fast similarity searches.\n",
    "- **Usage**: Essential for systems that need to search large datasets by semantic similarity (e.g., grouping similar documents, matching user queries to content).\n",
    "\n",
    "---\n",
    "\n",
    "## 🔎 Retrievers\n",
    "\n",
    "In contrast to vector stores, **retrievers focus on actively finding relevant information** based on a query.\n",
    "\n",
    "### 🔹 What They Do:\n",
    "- **Retrieving Information**: A retriever takes a query (e.g., a user question or search term) and searches a database to find the most relevant pieces of information.\n",
    "- **Purpose**: Designed to sift through large datasets and return the most appropriate results to answer a specific query.\n",
    "- **Usage**: Commonly used in search engines, question-answering systems, and any scenario where quick and accurate retrieval of specific information is required.\n",
    "\n",
    "---\n",
    "\n",
    "## ⚖️ Key Differences: Vector Stores vs. Retrievers\n",
    "\n",
    "| Aspect         | Vector Store                                                | Retriever                                                      |\n",
    "|----------------|-------------------------------------------------------------|----------------------------------------------------------------|\n",
    "| **Functionality** | Stores numerical representations (vectors) for similarity comparison. | Searches through data to retrieve relevant results based on a query. |\n",
    "| **Output**        | Returns vectors or similarity scores.                     | Returns a list of relevant documents or data entries.          |\n",
    "| **Role in Systems** | Acts as the backend to store data used for comparison.     | Uses stored data to find and fetch relevant content.           |\n"
   ]
  },
  {
   "cell_type": "code",
   "execution_count": 6,
   "metadata": {},
   "outputs": [],
   "source": [
    "from langchain_text_splitters import CharacterTextSplitter\n",
    "from langchain_huggingface import HuggingFaceEmbeddings\n",
    "from langchain_community.vectorstores import FAISS\n",
    "from langchain_groq import ChatGroq\n"
   ]
  },
  {
   "cell_type": "code",
   "execution_count": 7,
   "metadata": {},
   "outputs": [
    {
     "name": "stderr",
     "output_type": "stream",
     "text": [
      "c:\\Users\\Dan\\Desktop\\Python LLm Engineer\\01 Advanced ChatBot\\.venv\\Lib\\site-packages\\tqdm\\auto.py:21: TqdmWarning: IProgress not found. Please update jupyter and ipywidgets. See https://ipywidgets.readthedocs.io/en/stable/user_install.html\n",
      "  from .autonotebook import tqdm as notebook_tqdm\n"
     ]
    }
   ],
   "source": [
    "llm = ChatGroq(\n",
    "    model= \"llama-3.3-70b-versatile\",\n",
    "    temperature= 0.1\n",
    ")\n",
    "\n",
    "model_name = \"sentence-transformers/all-MiniLM-L6-v2\"\n",
    "model_embeddings = HuggingFaceEmbeddings(model_name=model_name)"
   ]
  },
  {
   "cell_type": "code",
   "execution_count": 10,
   "metadata": {},
   "outputs": [],
   "source": [
    "vector_db = FAISS.from_documents(documents=documents, embedding=model_embeddings)"
   ]
  },
  {
   "cell_type": "markdown",
   "metadata": {},
   "source": [
    "## 🔍 `similarity_search()` in LangChain\n",
    "\n",
    "Imagine you have a big box full of different toys, and you're looking for toys similar to your favorite toy car.  \n",
    "You might first pull out all the toy cars, then narrow it down to the ones that match the **color** or **size** of your favorite.\n",
    "\n",
    "In computing, **similarity search** works the same way — it searches through large volumes of data (text, images, etc.) to find items **most similar** to a given query.\n",
    "\n",
    "---\n",
    "\n",
    "### 🧠 How Similarity Search Works in LangChain\n",
    "\n",
    "When using `similarity_search()` in LangChain, the process usually involves three main steps:\n",
    "\n",
    "1. **Representation**  \n",
    "   Convert words or sentences into numerical vectors (called *embeddings*).\n",
    "\n",
    "2. **Comparison**  \n",
    "   Once in numerical form, these embeddings are compared to see how close (or far) they are — similar to calculating distances between points.\n",
    "\n",
    "3. **Retrieval**  \n",
    "   The retriever then sorts the items by similarity to your query and returns the most relevant results.\n",
    "\n",
    "---\n",
    "\n",
    "✅ The `similarity_search()` function returns documents that are most similar to a **string query** based on this process.\n"
   ]
  },
  {
   "cell_type": "code",
   "execution_count": 11,
   "metadata": {},
   "outputs": [
    {
     "data": {
      "text/plain": [
       "[Document(metadata={'source': 'civil-rights-doc'}, page_content=\"Martin Luther King Jr. was a prominent leader of the civil rights movement and delivered the famous 'I Have a Dream' speech.\"),\n",
       " Document(metadata={'source': 'us-politics-doc'}, page_content=\"Robert F. Kennedy was a key political figure and served as the U.S. Attorney General during his brother's presidency.\"),\n",
       " Document(metadata={'source': 'us-presidents-doc'}, page_content='John F. Kennedy served as the 35th president of the United States from 1961 until his assassination in 1963.'),\n",
       " Document(metadata={'source': 'great-depression-doc'}, page_content='Franklin D. Roosevelt served four terms as U.S. president and implemented the New Deal to combat the Great Depression.')]"
      ]
     },
     "execution_count": 11,
     "metadata": {},
     "output_type": "execute_result"
    }
   ],
   "source": [
    "vector_db.similarity_search(\"Jhon\")"
   ]
  },
  {
   "cell_type": "code",
   "execution_count": 12,
   "metadata": {},
   "outputs": [
    {
     "data": {
      "text/plain": [
       "[(Document(metadata={'source': 'civil-rights-doc'}, page_content=\"Martin Luther King Jr. was a prominent leader of the civil rights movement and delivered the famous 'I Have a Dream' speech.\"),\n",
       "  1.8768809),\n",
       " (Document(metadata={'source': 'us-politics-doc'}, page_content=\"Robert F. Kennedy was a key political figure and served as the U.S. Attorney General during his brother's presidency.\"),\n",
       "  1.9259932),\n",
       " (Document(metadata={'source': 'us-presidents-doc'}, page_content='John F. Kennedy served as the 35th president of the United States from 1961 until his assassination in 1963.'),\n",
       "  2.0167084),\n",
       " (Document(metadata={'source': 'great-depression-doc'}, page_content='Franklin D. Roosevelt served four terms as U.S. president and implemented the New Deal to combat the Great Depression.'),\n",
       "  2.0196872)]"
      ]
     },
     "execution_count": 12,
     "metadata": {},
     "output_type": "execute_result"
    }
   ],
   "source": [
    "vector_db.similarity_search_with_score(\"Jhon\")"
   ]
  },
  {
   "cell_type": "markdown",
   "metadata": {},
   "source": [
    "## 🔁 Retrievers\n",
    "\n",
    "We can create a retriever manually, but that is **not the most common approach**.\n",
    "\n",
    "Once we've selected the retrieval method (e.g., similarity search), we can **wrap it in a retriever using `RunnableLambda`** for integration into a LangChain pipeline.\n",
    "\n",
    "---\n",
    "\n",
    "### 🧩 Example\n",
    "\n",
    "The code below demonstrates how to **build a custom retriever** using the `similarity_search` method:\n",
    "\n",
    "> (Add your custom retriever code using `RunnableLambda` or other LangChain tools here.)\n"
   ]
  },
  {
   "cell_type": "code",
   "execution_count": 13,
   "metadata": {},
   "outputs": [
    {
     "data": {
      "text/plain": [
       "[[Document(metadata={'source': 'civil-rights-doc'}, page_content=\"Martin Luther King Jr. was a prominent leader of the civil rights movement and delivered the famous 'I Have a Dream' speech.\"),\n",
       "  Document(metadata={'source': 'us-politics-doc'}, page_content=\"Robert F. Kennedy was a key political figure and served as the U.S. Attorney General during his brother's presidency.\")],\n",
       " [Document(metadata={'source': 'us-politics-doc'}, page_content=\"Robert F. Kennedy was a key political figure and served as the U.S. Attorney General during his brother's presidency.\"),\n",
       "  Document(metadata={'source': 'kennedy-family-doc'}, page_content='The Kennedy family is known for their significant influence in American politics and public service.')]]"
      ]
     },
     "execution_count": 13,
     "metadata": {},
     "output_type": "execute_result"
    }
   ],
   "source": [
    "from typing import List\n",
    "\n",
    "from langchain_core.documents import Document\n",
    "from langchain_core.runnables import RunnableLambda\n",
    "\n",
    "retriever = RunnableLambda(vector_db.similarity_search).bind(k=2)\n",
    "retriever.batch([\"Jhon\", \"Robert\"])"
   ]
  },
  {
   "cell_type": "markdown",
   "metadata": {},
   "source": [
    "### ✅ Common Practice: Using `.as_retriever()`\n",
    "\n",
    "In most cases, we use the `.as_retriever()` method to easily **convert a vector store into a retriever**.\n",
    "\n",
    "This is the recommended and simplest way to use your vector store (e.g., FAISS, Chroma, etc.) in a LangChain pipeline.\n",
    "\n",
    "#### 🔧 Example:\n",
    "```python\n",
    "retriever = vectorstore.as_retriever()"
   ]
  },
  {
   "cell_type": "code",
   "execution_count": 14,
   "metadata": {},
   "outputs": [
    {
     "data": {
      "text/plain": [
       "[[Document(metadata={'source': 'civil-rights-doc'}, page_content=\"Martin Luther King Jr. was a prominent leader of the civil rights movement and delivered the famous 'I Have a Dream' speech.\")],\n",
       " [Document(metadata={'source': 'us-politics-doc'}, page_content=\"Robert F. Kennedy was a key political figure and served as the U.S. Attorney General during his brother's presidency.\")]]"
      ]
     },
     "execution_count": 14,
     "metadata": {},
     "output_type": "execute_result"
    }
   ],
   "source": [
    "retriever = vector_db.as_retriever(\n",
    "    search_type = \"similarity\",\n",
    "    search_kwargs = {\"k\" : 1},\n",
    ")\n",
    "\n",
    "retriever.batch([\"Jhon\", \"Robert\"])"
   ]
  },
  {
   "cell_type": "markdown",
   "metadata": {},
   "source": [
    "## ⚙️ Retrievers Are Runnables\n",
    "\n",
    "In LangChain, **VectorStore objects are not runnables**, meaning they **cannot be directly integrated** into LangChain Expression Language (LCEL) chains.\n",
    "\n",
    "However, **LangChain Retrievers are runnables**, which means they can **seamlessly plug into LCEL pipelines** and be composed with other components.\n",
    "\n",
    "---\n",
    "\n",
    "### 💡 Example:\n",
    "> See how we use a retriever inside an LCEL chain in the next section."
   ]
  },
  {
   "cell_type": "code",
   "execution_count": null,
   "metadata": {},
   "outputs": [],
   "source": [
    "from langchain_core.prompts import ChatPromptTemplate\n",
    "from langchain_core.runnables import RunnablePassthrough\n",
    "\n",
    "messages = \"\"\"\n",
    "Answer this question usng the pprovided context only.\n",
    "\n",
    "{question}\n",
    "\n",
    "Context:\n",
    "{context}\n",
    "\"\"\"\n",
    "\n",
    "retriever = vector_db.as_retriever(\n",
    "    search_type = \"similarity\",\n",
    "    search_kwargs = {\"k\" : 1},\n",
    ")\n",
    "\n",
    "prompt = ChatPromptTemplate.from_messages([(\"human\", messages)])\n",
    "\n",
    "chain = {\n",
    "    \"context\" : retriever,\n",
    "    \"question\" : RunnablePassthrough()} | prompt | llm"
   ]
  },
  {
   "cell_type": "code",
   "execution_count": 18,
   "metadata": {},
   "outputs": [],
   "source": [
    "response = chain.invoke(\"Tell me about Watergate\")"
   ]
  },
  {
   "cell_type": "code",
   "execution_count": 19,
   "metadata": {},
   "outputs": [
    {
     "name": "stdout",
     "output_type": "stream",
     "text": [
      "The Watergate scandal led to the resignation of President Richard Nixon in 1974.\n"
     ]
    }
   ],
   "source": [
    "print(response.content)"
   ]
  }
 ],
 "metadata": {
  "kernelspec": {
   "display_name": ".venv",
   "language": "python",
   "name": "python3"
  },
  "language_info": {
   "codemirror_mode": {
    "name": "ipython",
    "version": 3
   },
   "file_extension": ".py",
   "mimetype": "text/x-python",
   "name": "python",
   "nbconvert_exporter": "python",
   "pygments_lexer": "ipython3",
   "version": "3.12.7"
  }
 },
 "nbformat": 4,
 "nbformat_minor": 2
}
