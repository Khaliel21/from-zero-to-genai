{
 "cells": [
  {
   "cell_type": "code",
   "execution_count": 1,
   "metadata": {},
   "outputs": [
    {
     "name": "stdout",
     "output_type": "stream",
     "text": [
      "HEllo\n"
     ]
    }
   ],
   "source": [
    "print(\"HEllo\")"
   ]
  },
  {
   "cell_type": "code",
   "execution_count": 8,
   "metadata": {},
   "outputs": [],
   "source": [
    "import os\n",
    "\n",
    "from langchain_core.prompts import ChatPromptTemplate\n",
    "from langchain_core.output_parsers import StrOutputParser\n",
    "from langchain_groq import ChatGroq\n",
    "\n",
    "from dotenv import load_dotenv, find_dotenv"
   ]
  },
  {
   "cell_type": "code",
   "execution_count": 7,
   "metadata": {},
   "outputs": [],
   "source": [
    "_ = load_dotenv(find_dotenv())\n",
    "groq_api_key = os.environ['GROQ_API_KEY']\n",
    "hf_token_api = os.environ['HF_TOKEN']\n",
    "pinecone_api_key = os.environ['PINECONE_API_KEY']\n",
    "tavily_api_key = os.environ['TAVILY_API_KEY']"
   ]
  },
  {
   "cell_type": "code",
   "execution_count": 9,
   "metadata": {},
   "outputs": [],
   "source": [
    "llm = ChatGroq(\n",
    "    model=\"llama-3.3-70b-versatile\"\n",
    ")"
   ]
  },
  {
   "cell_type": "code",
   "execution_count": 10,
   "metadata": {},
   "outputs": [],
   "source": [
    "from langchain_community.tools.tavily_search import TavilySearchResults\n",
    "search = TavilySearchResults(max_results=2)\n",
    "res = search.invoke(\"Who is the persident of Israel in 2025\")"
   ]
  },
  {
   "cell_type": "code",
   "execution_count": 11,
   "metadata": {},
   "outputs": [
    {
     "name": "stdout",
     "output_type": "stream",
     "text": [
      "[{'url': 'https://www.reuters.com/video/watch/idRW900105022025RP1/', 'content': \"Article-Playlist: Middle East. Israel's president praises Trump-Netanyahu meeting, avoids Gaza. February 5, 2025. Israeli President Isaac Herzog on\"}, {'url': 'https://x.com/israelipm?lang=en', 'content': 'Ronen Bar will conclude his duties on 10 April 2025 or when a permanent ISA Director is appointed – whichever comes first.'}]\n"
     ]
    }
   ],
   "source": [
    "print(res)"
   ]
  },
  {
   "cell_type": "code",
   "execution_count": 13,
   "metadata": {},
   "outputs": [],
   "source": [
    "tools = [search]"
   ]
  },
  {
   "cell_type": "code",
   "execution_count": 14,
   "metadata": {},
   "outputs": [
    {
     "data": {
      "text/plain": [
       "[TavilySearchResults(max_results=2)]"
      ]
     },
     "execution_count": 14,
     "metadata": {},
     "output_type": "execute_result"
    }
   ],
   "source": [
    "tools"
   ]
  },
  {
   "cell_type": "code",
   "execution_count": 15,
   "metadata": {},
   "outputs": [],
   "source": [
    "from langgraph.prebuilt import create_react_agent\n",
    "agent_executor = create_react_agent(model=llm , tools=tools)"
   ]
  },
  {
   "cell_type": "code",
   "execution_count": 16,
   "metadata": {},
   "outputs": [],
   "source": [
    "from langchain_core.messages import HumanMessage\n",
    "human_massage = HumanMessage(content=\"Where is the soccer Eurocup 2024 played?\")\n",
    "response = agent_executor.invoke({\"messages\" : [human_massage]})"
   ]
  },
  {
   "cell_type": "code",
   "execution_count": null,
   "metadata": {},
   "outputs": [
    {
     "data": {
      "text/plain": [
       "[HumanMessage(content='Where is the soccer Eurocup 2024 played?', id='7dc1d0ef-931a-459a-92cb-fc79157e6f64'),\n",
       " AIMessage(content='', additional_kwargs={'tool_calls': [{'id': 'call_f7m3', 'function': {'arguments': '{\"query\": \"Eurocup 2024 location\"}', 'name': 'tavily_search_results_json'}, 'type': 'function'}]}, response_metadata={'token_usage': {'completion_tokens': 23, 'prompt_tokens': 289, 'total_tokens': 312, 'completion_time': 0.083636364, 'prompt_time': 0.024905264, 'queue_time': 0.101293075, 'total_time': 0.108541628}, 'model_name': 'llama-3.3-70b-versatile', 'system_fingerprint': 'fp_8dd9fca28c', 'finish_reason': 'tool_calls', 'logprobs': None}, id='run-2c8bb6a7-7521-4bfc-8e83-cb597f9c7e25-0', tool_calls=[{'name': 'tavily_search_results_json', 'args': {'query': 'Eurocup 2024 location'}, 'id': 'call_f7m3', 'type': 'tool_call'}], usage_metadata={'input_tokens': 289, 'output_tokens': 23, 'total_tokens': 312}),\n",
       " ToolMessage(content='[{\"url\": \"https://www.forbes.com/sites/bradadgate/2024/07/03/where-to-watch-euro-cup-2024/\", \"content\": \"For Euro 2024, Germany is the lone host country, with games being played across ten cities and venues. The championship game will be played at Berlin’s Olympiastadion, the same location as the 1936 Summer Olympics. The stadium was updated in 2006 and has a seating capacity of 76,475, making it the largest soccer stadium in the country. Previously, Germany had hosted the 2006 Euro Cup and in 1988 as West Germany. Looking at time differences, Germany is six hours “ahead” of New York and nine [...] Best 5% Interest Savings Accounts of 2024\\\\nBy Cassidy Horton, Contributor\\\\nJuly 5 9 p.m. Portugal vs. France Volksparkstadion, Hamburg\\\\nJuly 6 6 p.m. England vs. Switzerland Merkur Spiel-Arena, Dusseldorf\\\\nJuly 6 9 p.m. Netherlands vs. Türkiye Olympiastadion, Berlin\\\\nEuro Cup Semifinal Matches:\\\\nJuly 9 9 p.m. Winners of July 5 matches Allianz Arena, Munich\\\\nJuly 10 9 p.m. Winners of July 6 matches Signal Iduna Park, Dortmund\\\\nEuro Cup Final:\\\\nJuly 14 9 p.m. Semifinal winners Olympiastadion, Berlin\"}, {\"url\": \"https://en.wikipedia.org/wiki/UEFA_Euro_2024_final\", \"content\": \"The final was held at the Olympiastadion in Berlin, Germany, located in Westend of the borough of Charlottenburg-Wilmersdorf. On 27 September 2018, UEFA announced the 2024 tournament would be held in Germany after they had defeated Turkey in the host selection vote in Nyon, Switzerland.[8][9] The Olympiastadion was chosen as the final venue of the tournament by the UEFA Executive Committee in May 2022, where it was announced it would also host three group stage matches, a round of 16 match, and\"}]', name='tavily_search_results_json', id='fe44ced9-93b5-4f3f-b3b7-b37a030b4d17', tool_call_id='call_f7m3'),\n",
       " AIMessage(content='The soccer Eurocup 2024 is played in Germany, with games being played across ten cities and venues, including the Olympiastadion in Berlin, which will host the championship game.', response_metadata={'token_usage': {'completion_tokens': 40, 'prompt_tokens': 777, 'total_tokens': 817, 'completion_time': 0.145454545, 'prompt_time': 0.057845157, 'queue_time': 0.101198644, 'total_time': 0.203299702}, 'model_name': 'llama-3.3-70b-versatile', 'system_fingerprint': 'fp_90c1d253ff', 'finish_reason': 'stop', 'logprobs': None}, id='run-b52b98db-bb5a-4350-94ae-347b52bd0400-0', usage_metadata={'input_tokens': 777, 'output_tokens': 40, 'total_tokens': 817})]"
      ]
     },
     "execution_count": 17,
     "metadata": {},
     "output_type": "execute_result"
    }
   ],
   "source": [
    "response[\"messages\"] ## return response from live URL"
   ]
  },
  {
   "cell_type": "code",
   "execution_count": 20,
   "metadata": {},
   "outputs": [
    {
     "data": {
      "text/plain": [
       "[HumanMessage(content='What is Python?', id='3dbd38ee-1d0e-4e84-a7a8-5876942c82c8'),\n",
       " AIMessage(content='', additional_kwargs={'tool_calls': [{'id': 'call_3m9x', 'function': {'arguments': '{\"query\": \"What is Python?\"}', 'name': 'tavily_search_results_json'}, 'type': 'function'}]}, response_metadata={'token_usage': {'completion_tokens': 20, 'prompt_tokens': 563, 'total_tokens': 583, 'completion_time': 0.072727273, 'prompt_time': 0.043265058, 'queue_time': -0.109759086, 'total_time': 0.115992331}, 'model_name': 'llama-3.3-70b-versatile', 'system_fingerprint': 'fp_8dd9fca28c', 'finish_reason': 'tool_calls', 'logprobs': None}, id='run-09b46988-4264-4b93-b3b7-7acc3685675d-0', tool_calls=[{'name': 'tavily_search_results_json', 'args': {'query': 'What is Python?'}, 'id': 'call_3m9x', 'type': 'tool_call'}], usage_metadata={'input_tokens': 563, 'output_tokens': 20, 'total_tokens': 583}),\n",
       " ToolMessage(content='[{\"url\": \"https://www.w3schools.com/python/python_intro.asp\", \"content\": \"What is Python?\\\\nPython is a popular programming language. It was created by Guido van Rossum, and released in 1991.\\\\nIt is used for:\\\\n\\\\nweb development (server-side),\\\\nsoftware development,\\\\nmathematics,\\\\nsystem scripting.\\\\n\\\\nWhat can Python do?\"}, {\"url\": \"https://www.geeksforgeeks.org/what-is-python/\", \"content\": \"What is Python?\\\\nPython is a set of instructions that we give in the form of a Program to our computer to perform any specific task. It is a Programming language having properties like it is interpreted, object-oriented and it is high-level too. Due to its beginner-friendly syntax, it became a clear choice for beginners to start their programming journey. The major focus behind creating it is *making it easier for developers to read and understand, also reducing the lines of code.* [...] Python is a programming language that is interpreted, object-oriented, and considered to be high-level too. What is Python? Python is one of the easiest yet most useful programming languages which is widely used in the software industry. People use Python for Competitive Programming, Web Development, and creating software. Due to its easiest syntax, it is recommended for beginners who are new to the software engineering field. Its demand is growing at a very rapid pace due to its vast use cases [...] What is Python? Its Uses and Applications Python is a programming language that is interpreted, object-oriented, and considered to be high-level too. What is Python? Python is one of the easiest yet most useful programming languages which is widely used in the software industry. People use Python for Competitive Programming, Web Development 8 min read\"}]', name='tavily_search_results_json', id='627248f3-92b4-4687-8576-a17a24cb3b98', tool_call_id='call_3m9x'),\n",
       " AIMessage(content='Python is a popular programming language created by Guido van Rossum and released in 1991. It is used for web development, software development, mathematics, and system scripting. Python is an interpreted, object-oriented, and high-level language that is known for its beginner-friendly syntax and is widely used in the software industry. It is used for competitive programming, web development, and creating software, and its demand is growing rapidly due to its vast use cases.', response_metadata={'token_usage': {'completion_tokens': 93, 'prompt_tokens': 675, 'total_tokens': 768, 'completion_time': 0.338181818, 'prompt_time': 0.051413807, 'queue_time': 0.10176579999999999, 'total_time': 0.389595625}, 'model_name': 'llama-3.3-70b-versatile', 'system_fingerprint': 'fp_8dd9fca28c', 'finish_reason': 'stop', 'logprobs': None}, id='run-ceb99536-d9ba-4c7f-935e-474d727583f0-0', usage_metadata={'input_tokens': 675, 'output_tokens': 93, 'total_tokens': 768})]"
      ]
     },
     "execution_count": 20,
     "metadata": {},
     "output_type": "execute_result"
    }
   ],
   "source": [
    "human_massage = HumanMessage(content=\"What is Python?\")\n",
    "response = agent_executor.invoke({\"messages\" : [human_massage]})\n",
    "response[\"messages\"]"
   ]
  },
  {
   "cell_type": "code",
   "execution_count": 21,
   "metadata": {},
   "outputs": [
    {
     "name": "stdout",
     "output_type": "stream",
     "text": [
      "{'agent': {'messages': [AIMessage(content='', additional_kwargs={'tool_calls': [{'id': 'call_ezdn', 'function': {'arguments': '{\"query\": \"Eurocup 2024 host country\"}', 'name': 'tavily_search_results_json'}, 'type': 'function'}]}, response_metadata={'token_usage': {'completion_tokens': 24, 'prompt_tokens': 289, 'total_tokens': 313, 'completion_time': 0.087272727, 'prompt_time': 0.018331319, 'queue_time': 0.100541796, 'total_time': 0.105604046}, 'model_name': 'llama-3.3-70b-versatile', 'system_fingerprint': 'fp_90c1d253ff', 'finish_reason': 'tool_calls', 'logprobs': None}, id='run-51c5128f-b1d1-409d-962a-2944077dfe36-0', tool_calls=[{'name': 'tavily_search_results_json', 'args': {'query': 'Eurocup 2024 host country'}, 'id': 'call_ezdn', 'type': 'tool_call'}], usage_metadata={'input_tokens': 289, 'output_tokens': 24, 'total_tokens': 313})]}}\n",
      "----\n",
      "{'tools': {'messages': [ToolMessage(content='[{\"url\": \"https://www.forbes.com/sites/bradadgate/2024/07/03/where-to-watch-euro-cup-2024/\", \"content\": \"For Euro 2024, Germany is the lone host country, with games being played across ten cities and venues. The championship game will be played at Berlin’s Olympiastadion, the same location as the 1936 Summer Olympics. The stadium was updated in 2006 and has a seating capacity of 76,475, making it the largest soccer stadium in the country. Previously, Germany had hosted the 2006 Euro Cup and in 1988 as West Germany. Looking at time differences, Germany is six hours “ahead” of New York and nine [...] During the 2024 Euro Cup, Fox announced they will televise the 2025 Women’s Euro Cup. The 16-team tournament will be hosted by Switzerland from July 2 to 27. The 2021 Women’s Euro Cup) delayed by pandemic) was won by host country England the following year. In the U.S., the tournament aired on ESPN. [...] In November 2021 Fox Sports announced a six-year agreement with the Union of European Football Associations (UEFA) the governing body of the Euro Cup. Under the agreement, Fox Sports will television upwards of 1,500 soccer matches including the 2024- and 2028-Euro Cups. GlobalData estimates the deal to be valued at $270 million. The 2028 Euro Cup will be hosted by the United Kingdom and the Republic of Ireland.\"}, {\"url\": \"https://en.wikipedia.org/wiki/UEFA_Euro_2024\", \"content\": \"The 2024 UEFA European Football Championship, commonly referred to as UEFA Euro 2024 (stylised as UEFA EURO 2024) or simply Euro 2024, was the 17th UEFA European Championship, the quadrennial international football championship organised by UEFA for the European men\\'s national teams of their member associations. Germany hosted the tournament, which took place from 14 June to 14 July 2024. The tournament involved 24 teams, with Georgia making their European Championship debut. [...] (United in the heart of Europe.)\\\\nTournament details\\\\nHost country    Germany\\\\nDates   14 June – 14 July\\\\nTeams   24\\\\nVenue(s)    10\\xa0(in 10 host cities)\\\\nFinal positions\\\\nChampions   \\xa0Spain (4th title)\\\\nRunners-up  \\xa0England\\\\nTournament statistics\\\\nMatches\\xa0played  51\\\\nGoals scored    117\\xa0(2.29 per match)\\\\nAttendance  2,681,288\\xa0(52,574 per match)\\\\nTop scorer(s) \\\\n Harry Kane\\\\n Georges Mikautadze\\\\n Jamal Musiala\\\\n Cody Gakpo\\\\n Ivan Schranz\\\\n Dani Olmo\\\\n(3 goals each)\\\\nBest player(s)   Rodri [...] On 8 March 2017, UEFA announced that two countries, Germany and Turkey, had announced their intentions to host the tournament before the deadline of 3 March 2017.[6][7]\"}]', name='tavily_search_results_json', id='80e2fd19-85c9-4a5f-8cf7-c74847b1f589', tool_call_id='call_ezdn')]}}\n",
      "----\n",
      "{'agent': {'messages': [AIMessage(content='The soccer Eurocup 2024 is played in Germany, across ten cities and venues, with the championship game being played at Berlin’s Olympiastadion.', response_metadata={'token_usage': {'completion_tokens': 34, 'prompt_tokens': 977, 'total_tokens': 1011, 'completion_time': 0.123636364, 'prompt_time': 0.07105036, 'queue_time': 0.10193607499999999, 'total_time': 0.194686724}, 'model_name': 'llama-3.3-70b-versatile', 'system_fingerprint': 'fp_41c250edc7', 'finish_reason': 'stop', 'logprobs': None}, id='run-09aea704-12e1-4150-a040-5d3730981208-0', usage_metadata={'input_tokens': 977, 'output_tokens': 34, 'total_tokens': 1011})]}}\n",
      "----\n"
     ]
    }
   ],
   "source": [
    "human_massage = HumanMessage(content=\"Where is the soccer Eurocup 2024 played?\")\n",
    "for chunk in agent_executor.stream(\n",
    "    {\"messages\" : [human_massage]}\n",
    "    \n",
    "): \n",
    "    print(chunk)\n",
    "    print(\"----\")"
   ]
  },
  {
   "cell_type": "markdown",
   "metadata": {},
   "source": [
    "### Adding Memory like Conversation"
   ]
  },
  {
   "cell_type": "code",
   "execution_count": 23,
   "metadata": {},
   "outputs": [],
   "source": [
    "from langgraph.checkpoint.memory import MemorySaver\n",
    "\n",
    "memory = MemorySaver()"
   ]
  },
  {
   "cell_type": "code",
   "execution_count": null,
   "metadata": {},
   "outputs": [],
   "source": [
    "agent_executor = create_react_agent(model=llm , tools=tools, checkpointer=memory)\n",
    "config = {\"configurable\" : {\"thread_id\" : \"001}\"}} ## specific user --> if you change he open a new window "
   ]
  },
  {
   "cell_type": "code",
   "execution_count": 26,
   "metadata": {},
   "outputs": [
    {
     "name": "stdout",
     "output_type": "stream",
     "text": [
      "{'agent': {'messages': [AIMessage(content='', additional_kwargs={'tool_calls': [{'id': 'call_t8dt', 'function': {'arguments': '{\"query\": \"soccer Eurocup 2024 location\"}', 'name': 'tavily_search_results_json'}, 'type': 'function'}]}, response_metadata={'token_usage': {'completion_tokens': 25, 'prompt_tokens': 289, 'total_tokens': 314, 'completion_time': 0.090909091, 'prompt_time': 0.018370068, 'queue_time': 0.1017295, 'total_time': 0.109279159}, 'model_name': 'llama-3.3-70b-versatile', 'system_fingerprint': 'fp_41c250edc7', 'finish_reason': 'tool_calls', 'logprobs': None}, id='run-8bae9af4-1983-469a-9f6a-5a927a0b2939-0', tool_calls=[{'name': 'tavily_search_results_json', 'args': {'query': 'soccer Eurocup 2024 location'}, 'id': 'call_t8dt', 'type': 'tool_call'}], usage_metadata={'input_tokens': 289, 'output_tokens': 25, 'total_tokens': 314})]}}\n",
      "----\n",
      "{'tools': {'messages': [ToolMessage(content='[{\"url\": \"https://en.wikipedia.org/wiki/UEFA_Euro_2024_final\", \"content\": \"The final was held at the Olympiastadion in Berlin, Germany, located in Westend of the borough of Charlottenburg-Wilmersdorf. On 27 September 2018, UEFA announced the 2024 tournament would be held in Germany after they had defeated Turkey in the host selection vote in Nyon, Switzerland.[8][9] The Olympiastadion was chosen as the final venue of the tournament by the UEFA Executive Committee in May 2022, where it was announced it would also host three group stage matches, a round of 16 match, and\"}, {\"url\": \"https://www.forbes.com/sites/bradadgate/2024/07/03/where-to-watch-euro-cup-2024/\", \"content\": \"For Euro 2024, Germany is the lone host country, with games being played across ten cities and venues. The championship game will be played at Berlin’s Olympiastadion, the same location as the 1936 Summer Olympics. The stadium was updated in 2006 and has a seating capacity of 76,475, making it the largest soccer stadium in the country. Previously, Germany had hosted the 2006 Euro Cup and in 1988 as West Germany. Looking at time differences, Germany is six hours “ahead” of New York and nine [...] Best 5% Interest Savings Accounts of 2024\\\\nBy Cassidy Horton, Contributor\\\\nJuly 5 9 p.m. Portugal vs. France Volksparkstadion, Hamburg\\\\nJuly 6 6 p.m. England vs. Switzerland Merkur Spiel-Arena, Dusseldorf\\\\nJuly 6 9 p.m. Netherlands vs. Türkiye Olympiastadion, Berlin\\\\nEuro Cup Semifinal Matches:\\\\nJuly 9 9 p.m. Winners of July 5 matches Allianz Arena, Munich\\\\nJuly 10 9 p.m. Winners of July 6 matches Signal Iduna Park, Dortmund\\\\nEuro Cup Final:\\\\nJuly 14 9 p.m. Semifinal winners Olympiastadion, Berlin [...] In November 2021 Fox Sports announced a six-year agreement with the Union of European Football Associations (UEFA) the governing body of the Euro Cup. Under the agreement, Fox Sports will television upwards of 1,500 soccer matches including the 2024- and 2028-Euro Cups. GlobalData estimates the deal to be valued at $270 million. The 2028 Euro Cup will be hosted by the United Kingdom and the Republic of Ireland.\"}]', name='tavily_search_results_json', id='cb878cd4-0174-4082-b0bf-c933d693dc9e', tool_call_id='call_t8dt')]}}\n",
      "----\n",
      "{'agent': {'messages': [AIMessage(content='The soccer Eurocup 2024 is played in Germany, with the final match being held at the Olympiastadion in Berlin. The tournament is hosted across ten cities and venues in Germany, including Hamburg, Dusseldorf, Munich, and Dortmund.', response_metadata={'token_usage': {'completion_tokens': 53, 'prompt_tokens': 872, 'total_tokens': 925, 'completion_time': 0.200591744, 'prompt_time': 0.056580191, 'queue_time': 0.10201337299999999, 'total_time': 0.257171935}, 'model_name': 'llama-3.3-70b-versatile', 'system_fingerprint': 'fp_8dd9fca28c', 'finish_reason': 'stop', 'logprobs': None}, id='run-952b1855-73c8-48ac-9378-97d13a158951-0', usage_metadata={'input_tokens': 872, 'output_tokens': 53, 'total_tokens': 925})]}}\n",
      "----\n"
     ]
    }
   ],
   "source": [
    "human_massage = HumanMessage(content=\"Where is the soccer Eurocup 2024 played?\")\n",
    "for chunk in agent_executor.stream(\n",
    "    {\"messages\" : [human_massage]}, config=config\n",
    "    \n",
    "): \n",
    "    print(chunk)\n",
    "    print(\"----\")"
   ]
  },
  {
   "cell_type": "code",
   "execution_count": 27,
   "metadata": {},
   "outputs": [
    {
     "name": "stdout",
     "output_type": "stream",
     "text": [
      "{'agent': {'messages': [AIMessage(content='', additional_kwargs={'tool_calls': [{'id': 'call_zx3x', 'function': {'arguments': '{\"query\": \"2024 soccer Eurocup winner\"}', 'name': 'tavily_search_results_json'}, 'type': 'function'}]}, response_metadata={'token_usage': {'completion_tokens': 23, 'prompt_tokens': 944, 'total_tokens': 967, 'completion_time': 0.083636364, 'prompt_time': 0.060558123, 'queue_time': 0.106881315, 'total_time': 0.144194487}, 'model_name': 'llama-3.3-70b-versatile', 'system_fingerprint': 'fp_c4760ee73b', 'finish_reason': 'tool_calls', 'logprobs': None}, id='run-624f42dc-575e-438b-9e34-ce4d79b7f80c-0', tool_calls=[{'name': 'tavily_search_results_json', 'args': {'query': '2024 soccer Eurocup winner'}, 'id': 'call_zx3x', 'type': 'tool_call'}], usage_metadata={'input_tokens': 944, 'output_tokens': 23, 'total_tokens': 967})]}}\n",
      "----\n",
      "{'tools': {'messages': [ToolMessage(content='[{\"url\": \"https://www.cnn.com/2024/07/14/sport/spain-england-euro-2024-final-spt-intl/index.html\", \"content\": \"Ad Feedback\\\\nSports / Football\\\\nSpain wins Euro 2024, defeating England 2-1 in a dramatic final to claim record fourth European Championship\\\\nBy Ben Morse, CNN\\\\n5 minute read\\\\nUpdated 5:44 PM EDT, Sun July 14, 2024\\\\n\\\\nLink Copied!\\\\nFollow:\\\\nUK See your latest updates [...] Alvaro Morata lifts the Henri Delaunay trophy after Spain defeats England in the Euro 2024 final.\\\\nMichael Regan/UEFA/Getty Images\\\\nCNN \\xa0—\\xa0\\\\nSpain won a record-breaking fourth European Championship, defeating England 2-1 following a drama-filled second half in the Euro 2024 final on Sunday in Berlin. [...] Spain wins Euro 2024, defeating England 2-1 in a dramatic final to claim record fourth European Championship | CNN\"}, {\"url\": \"https://www.uefa.com/euro2024/news/028f-1b4e4a9a6d42-253a2c18efdf-1000--uefa-euro-2024-meet-the-winners/\", \"content\": \"How they got there, top scorers, pedigree, key players and the coach – all you need to know about UEFA EURO 2024 winners Spain.\\\\nRoute to glory\\\\nGroup B winners\\\\n3-0 vs Croatia (Berlin, 15 June)\\\\n1-0 vs Italy (Gelsenkirchen, 20 June)\\\\n1-0 vs Albania (Düsseldorf, 24 June)\\\\nRound of 16\\\\n4-1 vs Georgia (Cologne, 30 June)\\\\nQuarter-final\\\\n2-1 aet vs Germany (Stuttgart, 5 July)\\\\nSemi-final\\\\n2-1 vs France (Munich, 9 July)\\\\nFinal\\\\n2-1 vs England (Berlin, 10 July)\\\\nSpain\\\\nPedigree [...] UEFA.com works better on other browsers\\\\nFor the best possible experience, we recommend using Chrome, Firefox or Microsoft Edge.\\\\nSkip to main content\\\\nUEFA EURO 2024\\\\nUEFA EURO 2024 - UEFA EURO 2024: Meet the winners - News \\\\nUEFA EURO 2024: Meet the winners\\\\nSunday, July 14, 2024\\\\nArticle summary\\\\nGet the full lowdown on UEFA EURO 2024 winners Spain.\\\\nArticle top media content\\\\nSpain\\'s route to EURO 2024 glory: Every goal\\\\nArticle body\"}]', name='tavily_search_results_json', id='a1c581b3-f630-41a7-91cf-0c67c3b3e5d7', tool_call_id='call_zx3x')]}}\n",
      "----\n",
      "{'agent': {'messages': [AIMessage(content='The winner of the 2024 soccer Eurocup is Spain. They defeated England 2-1 in the final to claim their record fourth European Championship.', response_metadata={'token_usage': {'completion_tokens': 32, 'prompt_tokens': 1531, 'total_tokens': 1563, 'completion_time': 0.116363636, 'prompt_time': 0.114938381, 'queue_time': 0.10244797, 'total_time': 0.231302017}, 'model_name': 'llama-3.3-70b-versatile', 'system_fingerprint': 'fp_8dd9fca28c', 'finish_reason': 'stop', 'logprobs': None}, id='run-2051d5db-79df-480f-8fba-0433f480eab1-0', usage_metadata={'input_tokens': 1531, 'output_tokens': 32, 'total_tokens': 1563})]}}\n",
      "----\n"
     ]
    }
   ],
   "source": [
    "human_massage = HumanMessage(content=\"who won the 2024 soccer Eurocup?\")\n",
    "for chunk in agent_executor.stream(\n",
    "    {\"messages\" : [human_massage]}, config=config\n",
    "    \n",
    "): \n",
    "    print(chunk)\n",
    "    print(\"----\")"
   ]
  }
 ],
 "metadata": {
  "kernelspec": {
   "display_name": ".venv",
   "language": "python",
   "name": "python3"
  },
  "language_info": {
   "codemirror_mode": {
    "name": "ipython",
    "version": 3
   },
   "file_extension": ".py",
   "mimetype": "text/x-python",
   "name": "python",
   "nbconvert_exporter": "python",
   "pygments_lexer": "ipython3",
   "version": "3.12.7"
  }
 },
 "nbformat": 4,
 "nbformat_minor": 2
}
