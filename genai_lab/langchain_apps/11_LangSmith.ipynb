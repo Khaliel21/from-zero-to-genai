{
 "cells": [
  {
   "cell_type": "code",
   "execution_count": 1,
   "metadata": {},
   "outputs": [
    {
     "name": "stdout",
     "output_type": "stream",
     "text": [
      "hello\n"
     ]
    }
   ],
   "source": [
    "print(\"hello\")"
   ]
  },
  {
   "cell_type": "code",
   "execution_count": 2,
   "metadata": {},
   "outputs": [],
   "source": [
    "import os\n",
    "\n",
    "from langchain_core.prompts import ChatPromptTemplate\n",
    "from langchain_core.output_parsers import StrOutputParser\n",
    "from langchain_groq import ChatGroq\n",
    "\n",
    "from dotenv import load_dotenv, find_dotenv"
   ]
  },
  {
   "cell_type": "code",
   "execution_count": 3,
   "metadata": {},
   "outputs": [],
   "source": [
    "_ = load_dotenv(find_dotenv())\n",
    "groq_api_key = os.environ['GROQ_API_KEY']\n",
    "hf_token_api = os.environ['HF_TOKEN']\n",
    "pinecone_api_key = os.environ['PINECONE_API_KEY']\n",
    "tavily_api_key = os.environ['TAVILY_API_KEY']\n",
    "langchain_api_key = os.environ[\"LANGCHAIN_API_KEY\"]\n",
    "os.environ[\"LANGSMITH_TRACING\"] = \"true\""
   ]
  },
  {
   "cell_type": "code",
   "execution_count": 6,
   "metadata": {},
   "outputs": [],
   "source": [
    "template = [\n",
    "    (\"system\", \"you are a helpful assistant. Please response to the user requestt only based on the given context\"),\n",
    "    (\"user\", \"Question: {question}\\nContext: {context}\")\n",
    "]\n",
    "\n",
    "prompt = ChatPromptTemplate.from_messages(messages=template)"
   ]
  },
  {
   "cell_type": "code",
   "execution_count": 7,
   "metadata": {},
   "outputs": [],
   "source": [
    "llm = ChatGroq(\n",
    "    model=\"llama-3.3-70b-versatile\"\n",
    ")\n",
    "\n",
    "output_parser = StrOutputParser()\n",
    "\n",
    "chain = prompt | llm | output_parser"
   ]
  },
  {
   "cell_type": "code",
   "execution_count": 9,
   "metadata": {},
   "outputs": [],
   "source": [
    "question = \"can you summarize this story\"\n",
    "\n",
    "\n",
    "context = \"\"\"Now there was a little girl named Susie who had heard about this evil\n",
    "dragon, and wanted to see for herself that he was real. So one night she\n",
    "crawled under her sister's bed waiting for the dragon to pick her up. The\n",
    "dragon came slowly and silently through the city, getting ready to pick up\n",
    "his midnight snack. When Susie saw her she was amazed at how ugly he\n",
    "was, his mouth was dripping with drool ready to pick a kid. He then picked\n",
    "up Susie's sister with Susie hanging on to her back. Right before she was\n",
    "going to be dropped in the pot of doom, she jumped swiftly on to the\n",
    "dragons head. She felt the slimy texture of the dragons skin on her cold\n",
    "bare toes, she waited until the dragon was ready to go, and then she\n",
    "clenched his smelly ear as tight as she could so that she wouldn't go flying\n",
    "off his head. Then she experienced something no one else had ever\n",
    "experienced before, she was flying! She felt the cold winter breeze hitting\n",
    "her face as they flew over her city.\" There is my house,\" she called with her\n",
    "tiny sliver of a voice. She then looked behind her seeing how big the\n",
    "dragon actually was and how small she was. She looked up at the night sky\n",
    "and closed her eyes, drifting into a deep sleep\"\"\""
   ]
  },
  {
   "cell_type": "code",
   "execution_count": 10,
   "metadata": {},
   "outputs": [
    {
     "name": "stdout",
     "output_type": "stream",
     "text": [
      "A little girl named Susie wanted to see the evil dragon for herself, so she hid under her sister's bed. The dragon arrived, picked up Susie's sister, and Susie hung on to her back. As they were about to be dropped, Susie jumped onto the dragon's head, clinging to its ear. To her surprise, she found herself flying over the city with the dragon. As they soared through the night sky, Susie felt the thrill of the experience, saw her house below, and eventually fell into a deep sleep.\n"
     ]
    }
   ],
   "source": [
    "print(chain.invoke({\"question\" : question,  \"context\" : context}))"
   ]
  }
 ],
 "metadata": {
  "kernelspec": {
   "display_name": ".venv",
   "language": "python",
   "name": "python3"
  },
  "language_info": {
   "codemirror_mode": {
    "name": "ipython",
    "version": 3
   },
   "file_extension": ".py",
   "mimetype": "text/x-python",
   "name": "python",
   "nbconvert_exporter": "python",
   "pygments_lexer": "ipython3",
   "version": "3.12.7"
  }
 },
 "nbformat": 4,
 "nbformat_minor": 2
}
