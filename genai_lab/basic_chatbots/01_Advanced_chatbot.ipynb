{
 "cells": [
  {
   "cell_type": "code",
   "execution_count": 2,
   "metadata": {},
   "outputs": [
    {
     "name": "stdout",
     "output_type": "stream",
     "text": [
      "hello\n"
     ]
    }
   ],
   "source": [
    "print('hello')"
   ]
  },
  {
   "cell_type": "markdown",
   "metadata": {},
   "source": [
    "### How to Build a Advance Chatbot with Stored Memory using LangChain\n",
    "\n",
    "This script demonstrates how to build a simple LLM-based chatbot with memory using LangChain. The chatbot:\n",
    "- Can hold a conversation.\n",
    "- Remembers previous interactions by storing memory.\n",
    "- Saves memory into a JSON file for persistence.\n",
    "\n",
    "A chatbot app is a type of software designed to simulate conversations with human users. It uses AI to interpret user input and provide relevant responses. These bots can be applied in customer service, information delivery, or task assistance. In essence, it’s like texting a smart assistant that can answer questions and help you out.\n",
    "\n",
    "Concepts Covered:\n",
    "- Chat Model vs LLM Model:\n",
    "    - Chat models operate on structured messages.\n",
    "    - LLM models operate on raw unstructured text.\n",
    "    - Enables the chat model to retain and utilize previous interactions for context.\n"
   ]
  },
  {
   "cell_type": "code",
   "execution_count": 4,
   "metadata": {},
   "outputs": [],
   "source": [
    "import os\n",
    "\n",
    "from langchain_core.prompts import ChatPromptTemplate\n",
    "from langchain_core.output_parsers import StrOutputParser\n",
    "\n",
    "\n",
    "from dotenv import load_dotenv, find_dotenv"
   ]
  },
  {
   "cell_type": "code",
   "execution_count": 5,
   "metadata": {},
   "outputs": [],
   "source": [
    "import warnings\n",
    "from langchain._api import LangChainDeprecationWarning\n",
    "\n",
    "warnings.simplefilter(\"ignore\", category=LangChainDeprecationWarning)"
   ]
  },
  {
   "cell_type": "code",
   "execution_count": 6,
   "metadata": {},
   "outputs": [],
   "source": [
    "_ = load_dotenv(find_dotenv())\n",
    "groq_api_key = os.environ['GROQ_API_KEY']\n",
    "hf_token_api = os.environ['HF_TOKEN']\n",
    "pinecone_api_key = os.environ['PINECONE_API_KEY']"
   ]
  },
  {
   "cell_type": "code",
   "execution_count": 7,
   "metadata": {},
   "outputs": [],
   "source": [
    "from langchain_groq import ChatGroq\n",
    "chatbot = ChatGroq(\n",
    "    model=\"llama-3.3-70b-versatile\"\n",
    ")"
   ]
  },
  {
   "cell_type": "code",
   "execution_count": 8,
   "metadata": {},
   "outputs": [],
   "source": [
    "from langchain_core.messages import HumanMessage\n",
    "\n",
    "messages_to_the_bot = [\n",
    "    HumanMessage(content=\"My favorite color is green\")\n",
    "]"
   ]
  },
  {
   "cell_type": "code",
   "execution_count": 9,
   "metadata": {},
   "outputs": [
    {
     "data": {
      "text/plain": [
       "AIMessage(content=\"Green is a wonderful color, often associated with nature, growth, and harmony. It's a calming and balancing color that can evoke feelings of serenity and relaxation. What is it about the color green that you particularly like? Is it the vibrant tone of a freshly picked lime, the soothing hue of a forest, or something else entirely?\", response_metadata={'token_usage': {'completion_tokens': 69, 'prompt_tokens': 40, 'total_tokens': 109, 'completion_time': 0.250909091, 'prompt_time': 0.001880436, 'queue_time': 0.101555339, 'total_time': 0.252789527}, 'model_name': 'llama-3.3-70b-versatile', 'system_fingerprint': 'fp_41c250edc7', 'finish_reason': 'stop', 'logprobs': None}, id='run-b6e8815c-aa8e-4698-b997-b05bb3d98fd1-0', usage_metadata={'input_tokens': 40, 'output_tokens': 69, 'total_tokens': 109})"
      ]
     },
     "execution_count": 9,
     "metadata": {},
     "output_type": "execute_result"
    }
   ],
   "source": [
    "chatbot.invoke(messages_to_the_bot)"
   ]
  },
  {
   "cell_type": "markdown",
   "metadata": {},
   "source": [
    "##### in final let's call LangSmith perform Traking"
   ]
  },
  {
   "cell_type": "code",
   "execution_count": null,
   "metadata": {},
   "outputs": [],
   "source": []
  },
  {
   "cell_type": "markdown",
   "metadata": {},
   "source": [
    "### Check if the Chatbot Remembers something"
   ]
  },
  {
   "cell_type": "code",
   "execution_count": 10,
   "metadata": {},
   "outputs": [
    {
     "data": {
      "text/plain": [
       "AIMessage(content=\"I don't have any information about your personal preferences, including your favorite color. I'm a large language model, I don't have the ability to know or recall individual user preferences. Each time you interact with me, it's a new conversation and I don't retain any information from previous conversations. If you'd like to share your favorite color with me, I'd be happy to chat with you about it!\", response_metadata={'token_usage': {'completion_tokens': 84, 'prompt_tokens': 41, 'total_tokens': 125, 'completion_time': 0.305454545, 'prompt_time': 0.002365242, 'queue_time': 0.100352798, 'total_time': 0.307819787}, 'model_name': 'llama-3.3-70b-versatile', 'system_fingerprint': 'fp_8dd9fca28c', 'finish_reason': 'stop', 'logprobs': None}, id='run-71605484-f9d9-4d91-82b4-218b5682f765-0', usage_metadata={'input_tokens': 41, 'output_tokens': 84, 'total_tokens': 125})"
      ]
     },
     "execution_count": 10,
     "metadata": {},
     "output_type": "execute_result"
    }
   ],
   "source": [
    "query = [\n",
    "    HumanMessage(content='What is my favorite color ?')\n",
    "    ]\n",
    "chatbot.invoke(query)"
   ]
  },
  {
   "cell_type": "code",
   "execution_count": 11,
   "metadata": {},
   "outputs": [],
   "source": [
    "from langchain_community.chat_message_histories import ChatMessageHistory\n",
    "from langchain_core.chat_history import BaseChatMessageHistory\n",
    "from langchain_core.runnables.history import RunnableWithMessageHistory"
   ]
  },
  {
   "cell_type": "code",
   "execution_count": 12,
   "metadata": {},
   "outputs": [],
   "source": [
    "chatBotMemory = {}\n",
    "\n",
    "def get_session_history(session_id : str) -> BaseChatMessageHistory:\n",
    "    if session_id not in chatBotMemory:\n",
    "        chatBotMemory[session_id] = ChatMessageHistory()\n",
    "    return chatBotMemory[session_id]\n",
    "chatbot_with_message_history = RunnableWithMessageHistory(\n",
    "    chatbot,\n",
    "    get_session_history\n",
    ")"
   ]
  },
  {
   "cell_type": "code",
   "execution_count": 13,
   "metadata": {},
   "outputs": [],
   "source": [
    "session1 = {\"configurable\" : {\"session_id\" : \"001\"}}"
   ]
  },
  {
   "cell_type": "code",
   "execution_count": 14,
   "metadata": {},
   "outputs": [
    {
     "data": {
      "text/plain": [
       "\"Green is a wonderful color. It's a calming and natural color that can evoke feelings of balance and growth. It's also the color of nature, reminiscent of lush forests, rolling hills, and sparkling emeralds.\\n\\nWhat is it about the color green that you like the most? Is it the way it can symbolize harmony and freshness, or perhaps the way it can represent energy and vitality? Or maybe you just love the way it looks and the way it makes you feel?\\n\\nDo you have a favorite shade of green, such as lime, mint, or olive? Or do you like them all equally?\""
      ]
     },
     "execution_count": 14,
     "metadata": {},
     "output_type": "execute_result"
    }
   ],
   "source": [
    "responseFromChatbot = chatbot_with_message_history.invoke(\n",
    "    [HumanMessage(content=\"My favorite color is Green\")],\n",
    "    config = session1\n",
    ")\n",
    "\n",
    "responseFromChatbot.content"
   ]
  },
  {
   "cell_type": "code",
   "execution_count": 15,
   "metadata": {},
   "outputs": [
    {
     "data": {
      "text/plain": [
       "'Your favorite color is Green. You told me that earlier.'"
      ]
     },
     "execution_count": 15,
     "metadata": {},
     "output_type": "execute_result"
    }
   ],
   "source": [
    "responseFromChatbot = chatbot_with_message_history.invoke(\n",
    "    [HumanMessage(content=\"What is my favorite Color ?\")],\n",
    "    config = session1\n",
    ")\n",
    "\n",
    "responseFromChatbot.content"
   ]
  },
  {
   "cell_type": "code",
   "execution_count": 16,
   "metadata": {},
   "outputs": [],
   "source": [
    "session2 = {\"configurable\" : {\"session_id\" : \"002\"}}"
   ]
  },
  {
   "cell_type": "code",
   "execution_count": 17,
   "metadata": {},
   "outputs": [
    {
     "data": {
      "text/plain": [
       "\"I don't have any information about your personal preferences, including your favorite color. I'm a large language model, I don't have the ability to know or remember individual preferences. Each time you interact with me, it's a new conversation and I don't retain any information from previous conversations. Would you like to tell me your favorite color?\""
      ]
     },
     "execution_count": 17,
     "metadata": {},
     "output_type": "execute_result"
    }
   ],
   "source": [
    "responseFromChatbot = chatbot_with_message_history.invoke(\n",
    "    [HumanMessage(content=\"What is my favorite Color ?\")],\n",
    "    config = session2\n",
    ")\n",
    "\n",
    "responseFromChatbot.content"
   ]
  }
 ],
 "metadata": {
  "kernelspec": {
   "display_name": ".venv",
   "language": "python",
   "name": "python3"
  },
  "language_info": {
   "codemirror_mode": {
    "name": "ipython",
    "version": 3
   },
   "file_extension": ".py",
   "mimetype": "text/x-python",
   "name": "python",
   "nbconvert_exporter": "python",
   "pygments_lexer": "ipython3",
   "version": "3.12.7"
  }
 },
 "nbformat": 4,
 "nbformat_minor": 2
}
