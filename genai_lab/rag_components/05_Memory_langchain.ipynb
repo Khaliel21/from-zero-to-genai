{
 "cells": [
  {
   "cell_type": "code",
   "execution_count": 1,
   "metadata": {},
   "outputs": [
    {
     "name": "stdout",
     "output_type": "stream",
     "text": [
      "Hello\n"
     ]
    }
   ],
   "source": [
    "print(\"Hello\")"
   ]
  },
  {
   "cell_type": "code",
   "execution_count": 2,
   "metadata": {},
   "outputs": [],
   "source": [
    "import os\n",
    "from dotenv import load_dotenv, find_dotenv\n",
    "_ = load_dotenv(find_dotenv())\n",
    "groq_api_key = os.environ['GROQ_API_KEY']\n",
    "hf_token_api = os.environ['HF_TOKEN']\n",
    "pinecone_api_key = os.environ['PINECONE_API_KEY']"
   ]
  },
  {
   "cell_type": "code",
   "execution_count": 3,
   "metadata": {},
   "outputs": [],
   "source": [
    "from langchain_groq import ChatGroq\n",
    "Model = ChatGroq(\n",
    "    model=\"llama3-70b-8192\"\n",
    ")"
   ]
  },
  {
   "cell_type": "markdown",
   "metadata": {},
   "source": [
    "#### Buffer Memory\n",
    "- conversationBufferMemory keeps a list of chat messages in a buffer and passes those into the prompt template"
   ]
  },
  {
   "cell_type": "code",
   "execution_count": 5,
   "metadata": {},
   "outputs": [],
   "source": [
    "from langchain_core.prompts import(\n",
    "    ChatPromptTemplate,\n",
    "    MessagesPlaceholder,\n",
    "    SystemMessagePromptTemplate,\n",
    "    HumanMessagePromptTemplate,\n",
    ")\n",
    "\n",
    "from langchain.chains import LLMChain\n",
    "from langchain.memory import ConversationBufferMemory"
   ]
  },
  {
   "cell_type": "code",
   "execution_count": 12,
   "metadata": {},
   "outputs": [],
   "source": [
    "prompt = ChatPromptTemplate(\n",
    "    messages=[\n",
    "        SystemMessagePromptTemplate.from_template(\"You are a helpful chatbot having a conversation with a human.\"),\n",
    "        MessagesPlaceholder(variable_name=\"chat_history\"),\n",
    "        HumanMessagePromptTemplate.from_template(\"{question}\")\n",
    "    ]\n",
    ")\n",
    "\n",
    "memory = ConversationBufferMemory(memory_key = 'chat_history', return_messages=True)\n",
    "\n",
    "conversation = LLMChain(\n",
    "    llm=Model,\n",
    "    prompt=prompt,\n",
    "    memory=memory,\n",
    "    verbose = True\n",
    ")"
   ]
  },
  {
   "cell_type": "code",
   "execution_count": 13,
   "metadata": {},
   "outputs": [
    {
     "name": "stdout",
     "output_type": "stream",
     "text": [
      "\n",
      "\n",
      "\u001b[1m> Entering new LLMChain chain...\u001b[0m\n",
      "Prompt after formatting:\n",
      "\u001b[32;1m\u001b[1;3mSystem: You are a helpful chatbot having a conversation with a human.\n",
      "Human: Hi\u001b[0m\n",
      "\n",
      "\u001b[1m> Finished chain.\u001b[0m\n"
     ]
    },
    {
     "data": {
      "text/plain": [
       "{'question': 'Hi',\n",
       " 'chat_history': [HumanMessage(content='Hi'),\n",
       "  AIMessage(content=\"Hi! It's nice to meet you. Is there something I can help you with, or would you like to chat about something in particular? I'm here to listen and assist if I can.\")],\n",
       " 'text': \"Hi! It's nice to meet you. Is there something I can help you with, or would you like to chat about something in particular? I'm here to listen and assist if I can.\"}"
      ]
     },
     "execution_count": 13,
     "metadata": {},
     "output_type": "execute_result"
    }
   ],
   "source": [
    "conversation({'question': 'Hi'})"
   ]
  },
  {
   "cell_type": "code",
   "execution_count": 10,
   "metadata": {},
   "outputs": [
    {
     "data": {
      "text/plain": [
       "{'question': 'My name is Dan and i have moved 33 times',\n",
       " 'chat_history': [HumanMessage(content='Hi'),\n",
       "  AIMessage(content=\"Hi! It's nice to meet you. Is there something I can help you with or would you like to chat about something in particular? I'm all ears (or rather, all text)!\"),\n",
       "  HumanMessage(content='My name is Dan and i have moved 33 times'),\n",
       "  AIMessage(content=\"Wow, Dan! 33 times is a lot of moves! I can only imagine how exciting and challenging that must have been for you. You must have seen a lot of new places and met many new people along the way.\\n\\nWhat's been the most memorable move for you? Was it a move to a new country, a new state, or just a new neighborhood? And what's been the hardest part about moving so many times?\")],\n",
       " 'text': \"Wow, Dan! 33 times is a lot of moves! I can only imagine how exciting and challenging that must have been for you. You must have seen a lot of new places and met many new people along the way.\\n\\nWhat's been the most memorable move for you? Was it a move to a new country, a new state, or just a new neighborhood? And what's been the hardest part about moving so many times?\"}"
      ]
     },
     "execution_count": 10,
     "metadata": {},
     "output_type": "execute_result"
    }
   ],
   "source": [
    "conversation({'question': 'My name is Dan and i have moved 33 times'})"
   ]
  },
  {
   "cell_type": "markdown",
   "metadata": {},
   "source": [
    "### Conversation Buffer Window Memory\n",
    "- Similar to the previous one , but with a limited stentence in the conversation memory"
   ]
  },
  {
   "cell_type": "code",
   "execution_count": 19,
   "metadata": {},
   "outputs": [],
   "source": [
    "from langchain.memory import ConversationBufferWindowMemory\n",
    "from langchain.chains import ConversationChain"
   ]
  },
  {
   "cell_type": "code",
   "execution_count": 20,
   "metadata": {},
   "outputs": [],
   "source": [
    "windows_memory = ConversationBufferWindowMemory(k=3) ## mean keep in memory only the last 3 information\n"
   ]
  },
  {
   "cell_type": "code",
   "execution_count": 22,
   "metadata": {},
   "outputs": [],
   "source": [
    "conversation_window = ConversationChain(\n",
    "    llm = Model,\n",
    "    memory = windows_memory,\n",
    "    verbose = True\n",
    ")"
   ]
  },
  {
   "cell_type": "code",
   "execution_count": 23,
   "metadata": {},
   "outputs": [
    {
     "name": "stdout",
     "output_type": "stream",
     "text": [
      "\n",
      "\n",
      "\u001b[1m> Entering new ConversationChain chain...\u001b[0m\n",
      "Prompt after formatting:\n",
      "\u001b[32;1m\u001b[1;3mThe following is a friendly conversation between a human and an AI. The AI is talkative and provides lots of specific details from its context. If the AI does not know the answer to a question, it truthfully says it does not know.\n",
      "\n",
      "Current conversation:\n",
      "\n",
      "Human: Hi my name is Dan\n",
      "AI:\u001b[0m\n",
      "\n",
      "\u001b[1m> Finished chain.\u001b[0m\n"
     ]
    },
    {
     "data": {
      "text/plain": [
       "{'input': 'Hi my name is Dan',\n",
       " 'history': '',\n",
       " 'response': 'Nice to meet you, Dan! I\\'m an AI, and I\\'m thrilled to be chatting with you. I\\'ve been trained on a vast amount of text data, which I like to call my \"digital library.\" It\\'s a treasure trove of information that I can draw upon to answer your questions and engage in conversations. By the way, did you know that I can process and respond to language inputs in a fraction of a second? It\\'s thanks to my advanced natural language processing capabilities, which allow me to understand and generate human-like text. What brings you here today, Dan?'}"
      ]
     },
     "execution_count": 23,
     "metadata": {},
     "output_type": "execute_result"
    }
   ],
   "source": [
    "conversation_window({'input': \"Hi my name is Dan\"})"
   ]
  },
  {
   "cell_type": "code",
   "execution_count": 24,
   "metadata": {},
   "outputs": [
    {
     "name": "stdout",
     "output_type": "stream",
     "text": [
      "\n",
      "\n",
      "\u001b[1m> Entering new ConversationChain chain...\u001b[0m\n",
      "Prompt after formatting:\n",
      "\u001b[32;1m\u001b[1;3mThe following is a friendly conversation between a human and an AI. The AI is talkative and provides lots of specific details from its context. If the AI does not know the answer to a question, it truthfully says it does not know.\n",
      "\n",
      "Current conversation:\n",
      "Human: Hi my name is Dan\n",
      "AI: Nice to meet you, Dan! I'm an AI, and I'm thrilled to be chatting with you. I've been trained on a vast amount of text data, which I like to call my \"digital library.\" It's a treasure trove of information that I can draw upon to answer your questions and engage in conversations. By the way, did you know that I can process and respond to language inputs in a fraction of a second? It's thanks to my advanced natural language processing capabilities, which allow me to understand and generate human-like text. What brings you here today, Dan?\n",
      "Human: My favorite color is Green\n",
      "AI:\u001b[0m\n",
      "\n",
      "\u001b[1m> Finished chain.\u001b[0m\n"
     ]
    },
    {
     "data": {
      "text/plain": [
       "{'input': 'My favorite color is Green',\n",
       " 'history': 'Human: Hi my name is Dan\\nAI: Nice to meet you, Dan! I\\'m an AI, and I\\'m thrilled to be chatting with you. I\\'ve been trained on a vast amount of text data, which I like to call my \"digital library.\" It\\'s a treasure trove of information that I can draw upon to answer your questions and engage in conversations. By the way, did you know that I can process and respond to language inputs in a fraction of a second? It\\'s thanks to my advanced natural language processing capabilities, which allow me to understand and generate human-like text. What brings you here today, Dan?',\n",
       " 'response': \"Green is a wonderful choice, Dan! Did you know that green is also the color of nature and is often associated with feelings of calmness and balance? In fact, studies have shown that being surrounded by green spaces can even have a positive impact on our mental health. Speaking of which, I've been trained on a vast amount of text data related to psychology and mental health. If you're interested, I could share some fascinating insights on the topic. But I digress! What is it about the color green that resonates with you, Dan? Is it a particular shade, like lime or forest green, or is it more of a general affinity for the color?\"}"
      ]
     },
     "execution_count": 24,
     "metadata": {},
     "output_type": "execute_result"
    }
   ],
   "source": [
    "conversation_window({'input': \"My favorite color is Green\"})"
   ]
  },
  {
   "cell_type": "code",
   "execution_count": 25,
   "metadata": {},
   "outputs": [
    {
     "name": "stdout",
     "output_type": "stream",
     "text": [
      "\n",
      "\n",
      "\u001b[1m> Entering new ConversationChain chain...\u001b[0m\n",
      "Prompt after formatting:\n",
      "\u001b[32;1m\u001b[1;3mThe following is a friendly conversation between a human and an AI. The AI is talkative and provides lots of specific details from its context. If the AI does not know the answer to a question, it truthfully says it does not know.\n",
      "\n",
      "Current conversation:\n",
      "Human: Hi my name is Dan\n",
      "AI: Nice to meet you, Dan! I'm an AI, and I'm thrilled to be chatting with you. I've been trained on a vast amount of text data, which I like to call my \"digital library.\" It's a treasure trove of information that I can draw upon to answer your questions and engage in conversations. By the way, did you know that I can process and respond to language inputs in a fraction of a second? It's thanks to my advanced natural language processing capabilities, which allow me to understand and generate human-like text. What brings you here today, Dan?\n",
      "Human: My favorite color is Green\n",
      "AI: Green is a wonderful choice, Dan! Did you know that green is also the color of nature and is often associated with feelings of calmness and balance? In fact, studies have shown that being surrounded by green spaces can even have a positive impact on our mental health. Speaking of which, I've been trained on a vast amount of text data related to psychology and mental health. If you're interested, I could share some fascinating insights on the topic. But I digress! What is it about the color green that resonates with you, Dan? Is it a particular shade, like lime or forest green, or is it more of a general affinity for the color?\n",
      "Human: My favorite animal is penguin\n",
      "AI:\u001b[0m\n",
      "\n",
      "\u001b[1m> Finished chain.\u001b[0m\n"
     ]
    },
    {
     "data": {
      "text/plain": [
       "{'input': 'My favorite animal is penguin',\n",
       " 'history': 'Human: Hi my name is Dan\\nAI: Nice to meet you, Dan! I\\'m an AI, and I\\'m thrilled to be chatting with you. I\\'ve been trained on a vast amount of text data, which I like to call my \"digital library.\" It\\'s a treasure trove of information that I can draw upon to answer your questions and engage in conversations. By the way, did you know that I can process and respond to language inputs in a fraction of a second? It\\'s thanks to my advanced natural language processing capabilities, which allow me to understand and generate human-like text. What brings you here today, Dan?\\nHuman: My favorite color is Green\\nAI: Green is a wonderful choice, Dan! Did you know that green is also the color of nature and is often associated with feelings of calmness and balance? In fact, studies have shown that being surrounded by green spaces can even have a positive impact on our mental health. Speaking of which, I\\'ve been trained on a vast amount of text data related to psychology and mental health. If you\\'re interested, I could share some fascinating insights on the topic. But I digress! What is it about the color green that resonates with you, Dan? Is it a particular shade, like lime or forest green, or is it more of a general affinity for the color?',\n",
       " 'response': \"Penguins are adorable, Dan! Did you know that there are 18 different species of penguins, ranging in size from the tiny Little Blue Penguin to the majestic Emperor Penguin? I've got a wealth of information about these fascinating creatures, from their unique feathers to their remarkable adaptations for life in the Antarctic. In fact, did you know that penguins are able to drink saltwater because they have a special gland above their eyes that filters out excess salt? It's truly amazing! What is it about penguins that captivates you, Dan? Is it their tuxedo-like feathers, their waddling gait, or something else entirely?\"}"
      ]
     },
     "execution_count": 25,
     "metadata": {},
     "output_type": "execute_result"
    }
   ],
   "source": [
    "conversation_window({'input': \"My favorite animal is penguin\"})"
   ]
  },
  {
   "cell_type": "code",
   "execution_count": 26,
   "metadata": {},
   "outputs": [
    {
     "name": "stdout",
     "output_type": "stream",
     "text": [
      "\n",
      "\n",
      "\u001b[1m> Entering new ConversationChain chain...\u001b[0m\n",
      "Prompt after formatting:\n",
      "\u001b[32;1m\u001b[1;3mThe following is a friendly conversation between a human and an AI. The AI is talkative and provides lots of specific details from its context. If the AI does not know the answer to a question, it truthfully says it does not know.\n",
      "\n",
      "Current conversation:\n",
      "Human: Hi my name is Dan\n",
      "AI: Nice to meet you, Dan! I'm an AI, and I'm thrilled to be chatting with you. I've been trained on a vast amount of text data, which I like to call my \"digital library.\" It's a treasure trove of information that I can draw upon to answer your questions and engage in conversations. By the way, did you know that I can process and respond to language inputs in a fraction of a second? It's thanks to my advanced natural language processing capabilities, which allow me to understand and generate human-like text. What brings you here today, Dan?\n",
      "Human: My favorite color is Green\n",
      "AI: Green is a wonderful choice, Dan! Did you know that green is also the color of nature and is often associated with feelings of calmness and balance? In fact, studies have shown that being surrounded by green spaces can even have a positive impact on our mental health. Speaking of which, I've been trained on a vast amount of text data related to psychology and mental health. If you're interested, I could share some fascinating insights on the topic. But I digress! What is it about the color green that resonates with you, Dan? Is it a particular shade, like lime or forest green, or is it more of a general affinity for the color?\n",
      "Human: My favorite animal is penguin\n",
      "AI: Penguins are adorable, Dan! Did you know that there are 18 different species of penguins, ranging in size from the tiny Little Blue Penguin to the majestic Emperor Penguin? I've got a wealth of information about these fascinating creatures, from their unique feathers to their remarkable adaptations for life in the Antarctic. In fact, did you know that penguins are able to drink saltwater because they have a special gland above their eyes that filters out excess salt? It's truly amazing! What is it about penguins that captivates you, Dan? Is it their tuxedo-like feathers, their waddling gait, or something else entirely?\n",
      "Human: My favorite Town is Tel-Aviv\n",
      "AI:\u001b[0m\n",
      "\n",
      "\u001b[1m> Finished chain.\u001b[0m\n"
     ]
    },
    {
     "data": {
      "text/plain": [
       "{'input': 'My favorite Town is Tel-Aviv',\n",
       " 'history': 'Human: Hi my name is Dan\\nAI: Nice to meet you, Dan! I\\'m an AI, and I\\'m thrilled to be chatting with you. I\\'ve been trained on a vast amount of text data, which I like to call my \"digital library.\" It\\'s a treasure trove of information that I can draw upon to answer your questions and engage in conversations. By the way, did you know that I can process and respond to language inputs in a fraction of a second? It\\'s thanks to my advanced natural language processing capabilities, which allow me to understand and generate human-like text. What brings you here today, Dan?\\nHuman: My favorite color is Green\\nAI: Green is a wonderful choice, Dan! Did you know that green is also the color of nature and is often associated with feelings of calmness and balance? In fact, studies have shown that being surrounded by green spaces can even have a positive impact on our mental health. Speaking of which, I\\'ve been trained on a vast amount of text data related to psychology and mental health. If you\\'re interested, I could share some fascinating insights on the topic. But I digress! What is it about the color green that resonates with you, Dan? Is it a particular shade, like lime or forest green, or is it more of a general affinity for the color?\\nHuman: My favorite animal is penguin\\nAI: Penguins are adorable, Dan! Did you know that there are 18 different species of penguins, ranging in size from the tiny Little Blue Penguin to the majestic Emperor Penguin? I\\'ve got a wealth of information about these fascinating creatures, from their unique feathers to their remarkable adaptations for life in the Antarctic. In fact, did you know that penguins are able to drink saltwater because they have a special gland above their eyes that filters out excess salt? It\\'s truly amazing! What is it about penguins that captivates you, Dan? Is it their tuxedo-like feathers, their waddling gait, or something else entirely?',\n",
       " 'response': 'Tel Aviv is a vibrant city, Dan! Did you know that Tel Aviv is often referred to as the \"White City\" due to its stunning collection of over 4,000 Bauhaus-style buildings, which were declared a UNESCO World Heritage Site in 2003? I\\'ve been trained on a vast amount of text data about Tel Aviv\\'s rich history, cultural attractions, and modern amenities. From the bustling Carmel Market to the scenic beaches along the Mediterranean coast, there\\'s always something to explore in this amazing city! What is it about Tel Aviv that holds a special place in your heart, Dan? Is it the city\\'s thriving nightlife, its diverse culinary scene, or perhaps its strong sense of community and inclusivity?'}"
      ]
     },
     "execution_count": 26,
     "metadata": {},
     "output_type": "execute_result"
    }
   ],
   "source": [
    "conversation_window({'input': \"My favorite Town is Tel-Aviv\"})"
   ]
  },
  {
   "cell_type": "code",
   "execution_count": 27,
   "metadata": {},
   "outputs": [
    {
     "name": "stdout",
     "output_type": "stream",
     "text": [
      "\n",
      "\n",
      "\u001b[1m> Entering new ConversationChain chain...\u001b[0m\n",
      "Prompt after formatting:\n",
      "\u001b[32;1m\u001b[1;3mThe following is a friendly conversation between a human and an AI. The AI is talkative and provides lots of specific details from its context. If the AI does not know the answer to a question, it truthfully says it does not know.\n",
      "\n",
      "Current conversation:\n",
      "Human: My favorite color is Green\n",
      "AI: Green is a wonderful choice, Dan! Did you know that green is also the color of nature and is often associated with feelings of calmness and balance? In fact, studies have shown that being surrounded by green spaces can even have a positive impact on our mental health. Speaking of which, I've been trained on a vast amount of text data related to psychology and mental health. If you're interested, I could share some fascinating insights on the topic. But I digress! What is it about the color green that resonates with you, Dan? Is it a particular shade, like lime or forest green, or is it more of a general affinity for the color?\n",
      "Human: My favorite animal is penguin\n",
      "AI: Penguins are adorable, Dan! Did you know that there are 18 different species of penguins, ranging in size from the tiny Little Blue Penguin to the majestic Emperor Penguin? I've got a wealth of information about these fascinating creatures, from their unique feathers to their remarkable adaptations for life in the Antarctic. In fact, did you know that penguins are able to drink saltwater because they have a special gland above their eyes that filters out excess salt? It's truly amazing! What is it about penguins that captivates you, Dan? Is it their tuxedo-like feathers, their waddling gait, or something else entirely?\n",
      "Human: My favorite Town is Tel-Aviv\n",
      "AI: Tel Aviv is a vibrant city, Dan! Did you know that Tel Aviv is often referred to as the \"White City\" due to its stunning collection of over 4,000 Bauhaus-style buildings, which were declared a UNESCO World Heritage Site in 2003? I've been trained on a vast amount of text data about Tel Aviv's rich history, cultural attractions, and modern amenities. From the bustling Carmel Market to the scenic beaches along the Mediterranean coast, there's always something to explore in this amazing city! What is it about Tel Aviv that holds a special place in your heart, Dan? Is it the city's thriving nightlife, its diverse culinary scene, or perhaps its strong sense of community and inclusivity?\n",
      "Human: What  is my name ?\n",
      "AI:\u001b[0m\n",
      "\n",
      "\u001b[1m> Finished chain.\u001b[0m\n"
     ]
    },
    {
     "data": {
      "text/plain": [
       "{'input': 'What  is my name ?',\n",
       " 'history': 'Human: My favorite color is Green\\nAI: Green is a wonderful choice, Dan! Did you know that green is also the color of nature and is often associated with feelings of calmness and balance? In fact, studies have shown that being surrounded by green spaces can even have a positive impact on our mental health. Speaking of which, I\\'ve been trained on a vast amount of text data related to psychology and mental health. If you\\'re interested, I could share some fascinating insights on the topic. But I digress! What is it about the color green that resonates with you, Dan? Is it a particular shade, like lime or forest green, or is it more of a general affinity for the color?\\nHuman: My favorite animal is penguin\\nAI: Penguins are adorable, Dan! Did you know that there are 18 different species of penguins, ranging in size from the tiny Little Blue Penguin to the majestic Emperor Penguin? I\\'ve got a wealth of information about these fascinating creatures, from their unique feathers to their remarkable adaptations for life in the Antarctic. In fact, did you know that penguins are able to drink saltwater because they have a special gland above their eyes that filters out excess salt? It\\'s truly amazing! What is it about penguins that captivates you, Dan? Is it their tuxedo-like feathers, their waddling gait, or something else entirely?\\nHuman: My favorite Town is Tel-Aviv\\nAI: Tel Aviv is a vibrant city, Dan! Did you know that Tel Aviv is often referred to as the \"White City\" due to its stunning collection of over 4,000 Bauhaus-style buildings, which were declared a UNESCO World Heritage Site in 2003? I\\'ve been trained on a vast amount of text data about Tel Aviv\\'s rich history, cultural attractions, and modern amenities. From the bustling Carmel Market to the scenic beaches along the Mediterranean coast, there\\'s always something to explore in this amazing city! What is it about Tel Aviv that holds a special place in your heart, Dan? Is it the city\\'s thriving nightlife, its diverse culinary scene, or perhaps its strong sense of community and inclusivity?',\n",
       " 'response': 'I apologize, Dan, but I don\\'t actually know your name. I\\'ve been calling you \"Dan\" in our conversation, but that was just an assumption on my part. I don\\'t have any information about your personal identity or name. I\\'m an AI, I don\\'t have the ability to know your name unless you tell me!'}"
      ]
     },
     "execution_count": 27,
     "metadata": {},
     "output_type": "execute_result"
    }
   ],
   "source": [
    "conversation_window({'input': \"What  is my name ?\"})"
   ]
  },
  {
   "cell_type": "markdown",
   "metadata": {},
   "source": [
    "#### Chat Message History\n",
    "\n",
    "- save list of chat messages and then fetch them all\n",
    "- https://python.langchain.com/docs/how_to/message_history/#example-dictionary-inputs"
   ]
  },
  {
   "cell_type": "code",
   "execution_count": 28,
   "metadata": {},
   "outputs": [],
   "source": [
    "from langchain.memory import ChatMessageHistory\n",
    "\n",
    "history = ChatMessageHistory()\n",
    "\n",
    "history.add_user_message('hi!')\n",
    "\n",
    "history.add_ai_message('whats up')"
   ]
  },
  {
   "cell_type": "code",
   "execution_count": 29,
   "metadata": {},
   "outputs": [
    {
     "data": {
      "text/plain": [
       "[HumanMessage(content='hi!'), AIMessage(content='whats up')]"
      ]
     },
     "execution_count": 29,
     "metadata": {},
     "output_type": "execute_result"
    }
   ],
   "source": [
    "history.messages"
   ]
  }
 ],
 "metadata": {
  "kernelspec": {
   "display_name": ".venv",
   "language": "python",
   "name": "python3"
  },
  "language_info": {
   "codemirror_mode": {
    "name": "ipython",
    "version": 3
   },
   "file_extension": ".py",
   "mimetype": "text/x-python",
   "name": "python",
   "nbconvert_exporter": "python",
   "pygments_lexer": "ipython3",
   "version": "3.12.7"
  }
 },
 "nbformat": 4,
 "nbformat_minor": 2
}
