{
 "cells": [
  {
   "cell_type": "code",
   "execution_count": 1,
   "metadata": {},
   "outputs": [
    {
     "name": "stdout",
     "output_type": "stream",
     "text": [
      "hello\n"
     ]
    }
   ],
   "source": [
    "print(\"hello\")"
   ]
  },
  {
   "cell_type": "markdown",
   "metadata": {},
   "source": [
    "# 📘 Sentiment Analysis App\n",
    "\n",
    "## 🧩 Introduction\n",
    "\n",
    "Sentiment analysis is a widely used feature in Natural Language Processing (NLP). It allows us to determine whether a piece of text, such as a product review, expresses a positive, negative, or neutral sentiment.\n",
    "\n",
    "However, our app will go beyond basic sentiment detection. It will be a **text classification application**, also known as a **tagging app**. The goal is to assign labels to text based on its content.\n",
    "\n",
    "Our app will be able to classify text into multiple categories, such as:\n",
    "\n",
    "- **Sentiment**: Detect the sentiment of the text (positive, negative, neutral).\n",
    "- **Language**: Identify the language in which the text is written.\n",
    "- **Style**: Analyze writing style (formal, informal, etc.).\n",
    "- **Topics or Categories**: Detect the main subject or theme (e.g., sports, politics, technology).\n",
    "- **Political Tendency**: Analyze the political leaning of the text.\n",
    "- **And more...**\n",
    "\n",
    "This flexibility makes our app a powerful tool for a variety of NLP use cases."
   ]
  },
  {
   "cell_type": "code",
   "execution_count": 2,
   "metadata": {},
   "outputs": [],
   "source": [
    "import os\n",
    "\n",
    "from langchain_core.prompts import ChatPromptTemplate\n",
    "from langchain_core.output_parsers import StrOutputParser\n",
    "\n",
    "\n",
    "from dotenv import load_dotenv, find_dotenv"
   ]
  },
  {
   "cell_type": "code",
   "execution_count": 3,
   "metadata": {},
   "outputs": [],
   "source": [
    "_ = load_dotenv(find_dotenv())\n",
    "groq_api_key = os.environ['GROQ_API_KEY']\n",
    "hf_token_api = os.environ['HF_TOKEN']\n",
    "pinecone_api_key = os.environ['PINECONE_API_KEY']"
   ]
  },
  {
   "cell_type": "code",
   "execution_count": null,
   "metadata": {},
   "outputs": [],
   "source": [
    "from langchain_groq import ChatGroq\n",
    "llm = ChatGroq(\n",
    "    model= \"llama-3.3-70b-versatile\",\n",
    "    temperature= 0.1\n",
    ")"
   ]
  },
  {
   "cell_type": "markdown",
   "metadata": {},
   "source": [
    "## 🏷️ Tag Definition\n",
    "\n",
    "Instead of using the previous language model, we will define a new LLM in the following code block and utilize the `with_structured_output` method supported by OpenAI models.\n",
    "\n",
    "### 🔖 Tags Used in This App\n",
    "\n",
    "In the following section, we define the three tags that our application will analyze:\n",
    "\n",
    "- **Sentiment**: Identifies the emotional tone of the text (e.g., positive, negative, neutral).\n",
    "- **Political Tendency**: Detects the political leaning expressed in the content.\n",
    "- **Language**: Determines the language in which the text is written."
   ]
  },
  {
   "cell_type": "code",
   "execution_count": 9,
   "metadata": {},
   "outputs": [],
   "source": [
    "from langchain_core.prompts import ChatPromptTemplate\n",
    "from  langchain.output_parsers import StructuredOutputParser \n",
    "\n",
    "template = \"\"\"\"\n",
    "\n",
    "Extract the desired information from the following passage.\n",
    "\n",
    "only eextract the propertes mentioned  in the \"Classification\" function\n",
    "\n",
    "Passage:\n",
    "{input}\n",
    "\"\"\"\n",
    "\n",
    "prompt = ChatPromptTemplate.from_template(template=template)\n",
    "\n",
    "output_parser = StrOutputParser()"
   ]
  },
  {
   "cell_type": "code",
   "execution_count": 7,
   "metadata": {},
   "outputs": [],
   "source": [
    "from langchain_core.pydantic_v1 import BaseModel, Field\n",
    "class Classification(BaseModel):\n",
    "    \n",
    "    sentimennt: str = Field(description=\"The sentiment of the text\")\n",
    "    \n",
    "    political_tendency : str = Field(description= \"The political tendency of the user\")\n",
    "    \n",
    "    language : str = Field(description=\"The language the text is written in\")"
   ]
  },
  {
   "cell_type": "code",
   "execution_count": 16,
   "metadata": {},
   "outputs": [],
   "source": [
    "tagging_chain = prompt | llm.with_structured_output(Classification)"
   ]
  },
  {
   "cell_type": "code",
   "execution_count": 20,
   "metadata": {},
   "outputs": [],
   "source": [
    "trump_follower_0 = \"\"\"\n",
    "onald Trump economic policies led to significant growth in the stock market and job creation during his presidency. \n",
    "Many Americans appreciated his \"America First\" approach and his ability to negotiate international trade deals\n",
    "\"\"\"\n",
    "\n",
    "trump_follower_1 = \"\"\"\n",
    "Donald Trump presidency was marked by constant controversy, misinformation, and a divisive political climate. \n",
    "His handling of the COVID-19 pandemic and frequent attacks on democratic institutions drew widespread criticism.\n",
    "\"\"\"\n",
    "\n",
    "trump_follower_2 = \"\"\"\n",
    "Donald Trump served as the 45th President of the United States from 2017 to 2021. \n",
    "He was previously a businessman and television personality before entering politics.\n",
    "\"\"\""
   ]
  },
  {
   "cell_type": "code",
   "execution_count": 22,
   "metadata": {},
   "outputs": [
    {
     "data": {
      "text/plain": [
       "Classification(sentimennt='Neutral', political_tendency='Republican', language='English')"
      ]
     },
     "execution_count": 22,
     "metadata": {},
     "output_type": "execute_result"
    }
   ],
   "source": [
    "tagging_chain.invoke({\"input\": trump_follower_2})"
   ]
  },
  {
   "cell_type": "markdown",
   "metadata": {},
   "source": [
    "## 🧩 Schema Definition & Model Control\n",
    "\n",
    "Defining a clear and precise schema allows us to have better control over the model’s output.\n",
    "\n",
    "### ✅ Benefits of Schema Definition:\n",
    "- **Specify allowed values** for each property.\n",
    "- **Provide clear descriptions** to ensure the model correctly interprets each property.\n",
    "- **Enforce required fields** that must be returned by the model.\n",
    "\n",
    "### 🔁 Next Step\n",
    "We will now redefine our Pydantic model to incorporate these controls using **enums**.\n"
   ]
  },
  {
   "cell_type": "code",
   "execution_count": 23,
   "metadata": {},
   "outputs": [],
   "source": [
    "class Classification(BaseModel):\n",
    "    \n",
    "    sentimennt: str = Field(..., enum=[\"happy\", \"neutral\", \"sad\"])\n",
    "    \n",
    "    political_tendency : str = Field(\n",
    "        ...,\n",
    "        description= \"The political tendency of the user\",\n",
    "        enum = [\"conservative\", \"liberal\",  \"independent\"],\n",
    "\n",
    "        )\n",
    "    \n",
    "    language : str = Field(..., enum=[\"spanish\", \"english\"])"
   ]
  },
  {
   "cell_type": "code",
   "execution_count": 24,
   "metadata": {},
   "outputs": [],
   "source": [
    "template = \"\"\"\"\n",
    "\n",
    "Extract the desired information from the following passage.\n",
    "\n",
    "only eextract the propertes mentioned  in the \"Classification\" function\n",
    "\n",
    "Passage:\n",
    "{input}\n",
    "\"\"\"\n",
    "\n",
    "prompt = ChatPromptTemplate.from_template(template=template)"
   ]
  },
  {
   "cell_type": "code",
   "execution_count": 25,
   "metadata": {},
   "outputs": [],
   "source": [
    "tagging_chain = prompt | llm.with_structured_output(Classification)"
   ]
  },
  {
   "cell_type": "code",
   "execution_count": 26,
   "metadata": {},
   "outputs": [
    {
     "data": {
      "text/plain": [
       "Classification(sentimennt='sad', political_tendency='conservative', language='english')"
      ]
     },
     "execution_count": 26,
     "metadata": {},
     "output_type": "execute_result"
    }
   ],
   "source": [
    "tagging_chain.invoke({\"input\" : trump_follower_1})"
   ]
  }
 ],
 "metadata": {
  "kernelspec": {
   "display_name": ".venv",
   "language": "python",
   "name": "python3"
  },
  "language_info": {
   "codemirror_mode": {
    "name": "ipython",
    "version": 3
   },
   "file_extension": ".py",
   "mimetype": "text/x-python",
   "name": "python",
   "nbconvert_exporter": "python",
   "pygments_lexer": "ipython3",
   "version": "3.12.7"
  }
 },
 "nbformat": 4,
 "nbformat_minor": 2
}
