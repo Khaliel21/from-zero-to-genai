{
 "cells": [
  {
   "cell_type": "code",
   "execution_count": 1,
   "metadata": {},
   "outputs": [
    {
     "name": "stdout",
     "output_type": "stream",
     "text": [
      "Hello\n"
     ]
    }
   ],
   "source": [
    "print('Hello')"
   ]
  },
  {
   "cell_type": "code",
   "execution_count": 2,
   "metadata": {},
   "outputs": [],
   "source": [
    "import os\n",
    "from dotenv import load_dotenv, find_dotenv\n",
    "_ = load_dotenv(find_dotenv())\n",
    "groq_api_key = os.environ['GROQ_API_KEY']\n",
    "hf_token_api = os.environ['HF_TOKEN']\n",
    "pinecone_api_key = os.environ['PINECONE_API_KEY']"
   ]
  },
  {
   "cell_type": "code",
   "execution_count": 3,
   "metadata": {},
   "outputs": [],
   "source": [
    "from langchain_groq import ChatGroq\n",
    "Model = ChatGroq(\n",
    "    model=\"llama3-70b-8192\"\n",
    ")"
   ]
  },
  {
   "cell_type": "code",
   "execution_count": 4,
   "metadata": {},
   "outputs": [],
   "source": [
    "from langchain_core.prompts import ChatPromptTemplate\n",
    "from langchain_core.output_parsers import StrOutputParser\n",
    "from langchain_core.runnables import RunnablePassthrough"
   ]
  },
  {
   "cell_type": "code",
   "execution_count": 5,
   "metadata": {},
   "outputs": [],
   "source": [
    "template = \"\"\"\n",
    "Tell me a curious fact about {politician}\n",
    "\"\"\"\n",
    "prompt = ChatPromptTemplate.from_template(template)\n",
    "chain = prompt | Model | StrOutputParser()"
   ]
  },
  {
   "cell_type": "code",
   "execution_count": 8,
   "metadata": {},
   "outputs": [
    {
     "name": "stdout",
     "output_type": "stream",
     "text": [
      "Here's one:\n",
      "\n",
      "Did you know that John F. Kennedy, the 35th President of the United States, was a published author at the age of 23? In 1940, while still a student at Harvard, Kennedy wrote a thesis titled \"Appeasement in Munich,\" which was later published as a book called \"Why England Slept.\" The book was a critical analysis of Britain's policy of appeasement towards Nazi Germany in the 1930s, and it became a bestseller! Kennedy's writing skills and historical insight were already evident at a young age, and this early success likely influenced his later career in politics.\n"
     ]
    }
   ],
   "source": [
    "print(chain.invoke({'politician': 'JFK'}))"
   ]
  },
  {
   "cell_type": "code",
   "execution_count": 10,
   "metadata": {},
   "outputs": [
    {
     "name": "stdout",
     "output_type": "stream",
     "text": [
      "Here's one:\n",
      "\n",
      "Franklin D. Roosevelt, the 32nd President of the United States, was a passionate stamp collector! In fact, he started collecting stamps as a child and continued to do so throughout his life. His collection, which he started in 1890 when he was just 8 years old, eventually grew to over 100 albums and more than 20,000 stamps!\n",
      "\n",
      "Roosevelt's love for stamp collecting was so strong that he even had a special room in the White House dedicated to his hobby, where he would spend hours sorting and organizing his stamps. He believed that stamp collecting helped him relax and clear his mind, and he often credited it with helping him cope with the stresses of being President during the Great Depression and World War II.\n",
      "\n",
      "Who knew that one of America's most iconic leaders was also a stamp enthusiast?"
     ]
    }
   ],
   "source": [
    "for s in chain.stream({'politician': 'F.D. Roosevelt'}):\n",
    "    print(s, end=\"\", flush=True)"
   ]
  },
  {
   "cell_type": "code",
   "execution_count": 13,
   "metadata": {},
   "outputs": [
    {
     "name": "stdout",
     "output_type": "stream",
     "text": [
      "['Here\\'s a curious fact about JFK:\\n\\n**JFK was a prolific writer and published author before he became President.**\\n\\nIn 1940, when John F. Kennedy was just 23 years old, he wrote a book called \"Why England Slept,\" which was a critique of British appeasement policy towards Nazi Germany in the 1930s. The book was based on his senior thesis at Harvard University and was actually published while he was still an undergraduate student!\\n\\nThe book received positive reviews and even became a bestseller, selling over 80,000 copies. JFK\\'s writing skills and analytical thinking were evident even at a young age, and this early literary success may have helped pave the way for his later political career.\\n\\nIsn\\'t that a fascinating fact about JFK?', 'I think you meant to say \"Vladimir Putin\".\\n\\nHere\\'s a curious fact about him:\\n\\nVladimir Putin is a judo black belt and has been involved in the sport since he was a teenager. In fact, he\\'s so passionate about judo that he even co-authored a book called \"Let\\'s Learn Judo with Vladimir Putin\" in 2007. The book is a instructional guide that features Putin demonstrating various judo techniques and sharing his philosophy on the sport. Who knew that the President of Russia was also a judo enthusiast?']\n"
     ]
    }
   ],
   "source": [
    "print(chain.batch([{'politician': 'JFK'}, {'politician': 'Valdimir Poutine'}]))"
   ]
  }
 ],
 "metadata": {
  "kernelspec": {
   "display_name": ".venv",
   "language": "python",
   "name": "python3"
  },
  "language_info": {
   "codemirror_mode": {
    "name": "ipython",
    "version": 3
   },
   "file_extension": ".py",
   "mimetype": "text/x-python",
   "name": "python",
   "nbconvert_exporter": "python",
   "pygments_lexer": "ipython3",
   "version": "3.12.7"
  }
 },
 "nbformat": 4,
 "nbformat_minor": 2
}
